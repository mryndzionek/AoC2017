{
 "cells": [
  {
   "cell_type": "markdown",
   "metadata": {},
   "source": [
    "# Helpers borrowed from [Peter Norvig](https://github.com/norvig/pytudes/blob/master/ipynb/Advent%20of%20Code.ipynb)"
   ]
  },
  {
   "cell_type": "code",
   "execution_count": 1,
   "metadata": {},
   "outputs": [],
   "source": [
    "import re\n",
    "import math\n",
    "from collections import OrderedDict, Counter, defaultdict, namedtuple, deque\n",
    "\n",
    "from itertools   import permutations, combinations, chain, takewhile, \\\n",
    "cycle, product, islice, zip_longest, count as count_from\n",
    "\n",
    "from heapq       import heappop, heappush\n",
    "\n",
    "def Input(day):\n",
    "    \"Open this day's input file.\"\n",
    "    filename = 'input_day{}.txt'.format(day)\n",
    "    return open(filename).read().strip()\n",
    "\n",
    "cat = ''.join\n",
    "origin = (0,0)\n",
    "\n",
    "def array(lines):\n",
    "    \"Convert an iterable of lines into a 2-D array. If lines is a str, do splitlines.\"\n",
    "    if isinstance(lines, str): lines = lines.splitlines()\n",
    "    return [mapt(atom, line.replace(\",\", \" \").split()) for line in lines]\n",
    "\n",
    "def atom(token):\n",
    "    try:\n",
    "        return int(token)\n",
    "    except ValueError:\n",
    "        try:\n",
    "            return float(token)\n",
    "        except ValueError:\n",
    "            return token\n",
    "\n",
    "def grep(pattern, lines):\n",
    "    \"Print lines that match pattern.\"\n",
    "    for line in lines:\n",
    "        if re.search(pattern, line):\n",
    "            print(line)\n",
    "            \n",
    "def mapt(fn, *args): \n",
    "    \"Do a map, and make the results into a tuple.\"\n",
    "    return tuple(map(fn, *args))\n",
    "\n",
    "def cityblock_distance(p, q=origin): \n",
    "    \"Manhatten distance between two points.\"\n",
    "    return abs(X(p) - X(q)) + abs(Y(p) - Y(q))\n",
    "\n",
    "def distance(p, q=origin): \n",
    "    \"Hypotenuse distance between two points.\"\n",
    "    return math.hypot(X(p) - X(q), Y(p) - Y(q))\n",
    "\n",
    "def X(point): return point[0]\n",
    "def Y(point): return point[1]\n",
    "\n",
    "def neighbors4(point): \n",
    "    \"The four neighboring squares.\"\n",
    "    x, y = point\n",
    "    return (          (x, y-1),\n",
    "            (x-1, y),           (x+1, y), \n",
    "                      (x, y+1))\n",
    "\n",
    "def neighbors8(point): \n",
    "    \"The eight neighbors (with diagonals).\"\n",
    "    x, y = point \n",
    "    return ((x+1, y), (x-1, y), (x, y+1), (x, y-1),\n",
    "            (x+1, y+1), (x-1, y-1), (x+1, y-1), (x-1, y+1))\n",
    "\n",
    "def always(value): return (lambda *args: value)\n",
    "\n",
    "def Astar(start, moves_func, h_func, cost_func=always(1)):\n",
    "    \"Find a shortest sequence of states from start to a goal state (a state s with h_func(s) == 0).\"\n",
    "    frontier  = [(h_func(start), start)] # A priority queue, ordered by path length, f = g + h\n",
    "    previous  = {start: None}  # start state has no previous state; other states will\n",
    "    path_cost = {start: 0}     # The cost of the best path to a state.\n",
    "    Path      = lambda s: ([] if (s is None) else Path(previous[s]) + [s])\n",
    "    while frontier:\n",
    "        (f, s) = heappop(frontier)\n",
    "        if h_func(s) == 0:\n",
    "            return Path(s)\n",
    "        for s2 in moves_func(s):\n",
    "            g = path_cost[s] + cost_func(s, s2)\n",
    "            if s2 not in path_cost or g < path_cost[s2]:\n",
    "                heappush(frontier, (g + h_func(s2), s2))\n",
    "                path_cost[s2] = g\n",
    "                previous[s2] = s\n"
   ]
  },
  {
   "cell_type": "markdown",
   "metadata": {},
   "source": [
    "# [Day 1](https://adventofcode.com/2017/day/1)"
   ]
  },
  {
   "cell_type": "code",
   "execution_count": 2,
   "metadata": {},
   "outputs": [
    {
     "data": {
      "text/plain": [
       "1144"
      ]
     },
     "execution_count": 2,
     "metadata": {},
     "output_type": "execute_result"
    }
   ],
   "source": [
    "def captcha(input):\n",
    "    ints = mapt(int, input)\n",
    "    left = (2*ints)[1:][:len(ints)]\n",
    "    pairs = zip(ints, left)\n",
    "    same = filter(lambda p: p[0] == p[1], pairs)\n",
    "    return sum(map(lambda p: p[0], same))\n",
    "\n",
    "assert captcha('1122') == 3\n",
    "assert captcha('1111') == 4\n",
    "assert captcha('1234') == 0\n",
    "assert captcha('91212129') == 9\n",
    "\n",
    "captcha(Input(1))"
   ]
  },
  {
   "cell_type": "code",
   "execution_count": 3,
   "metadata": {},
   "outputs": [
    {
     "data": {
      "text/plain": [
       "1194"
      ]
     },
     "execution_count": 3,
     "metadata": {},
     "output_type": "execute_result"
    }
   ],
   "source": [
    "def captcha_half(input):\n",
    "    ints = mapt(int, input)\n",
    "    left = (2*ints)[int(len(ints)/2):][:len(ints)]\n",
    "    pairs = zip(ints, left)\n",
    "    same = filter(lambda p: p[0] == p[1], pairs)\n",
    "    return sum(map(lambda p: p[0], same))\n",
    "\n",
    "assert captcha_half('1212') == 6\n",
    "assert captcha_half('1221') == 0\n",
    "assert captcha_half('123425') == 4\n",
    "assert captcha_half('123123') == 12\n",
    "assert captcha_half('12131415') == 4\n",
    "\n",
    "captcha_half(Input(1))"
   ]
  },
  {
   "cell_type": "markdown",
   "metadata": {},
   "source": [
    "# [Day 2](https://adventofcode.com/2017/day/2)"
   ]
  },
  {
   "cell_type": "code",
   "execution_count": 4,
   "metadata": {},
   "outputs": [
    {
     "data": {
      "text/plain": [
       "45351"
      ]
     },
     "execution_count": 4,
     "metadata": {},
     "output_type": "execute_result"
    }
   ],
   "source": [
    "def spreadsheet_checksum(input):\n",
    "    return sum([max(row) - min(row)\n",
    "                for row in array(input)\n",
    "               ])\n",
    "\n",
    "spreadsheet_checksum(Input(2))"
   ]
  },
  {
   "cell_type": "code",
   "execution_count": 5,
   "metadata": {},
   "outputs": [
    {
     "data": {
      "text/plain": [
       "275"
      ]
     },
     "execution_count": 5,
     "metadata": {},
     "output_type": "execute_result"
    }
   ],
   "source": [
    "def spreadsheet_checksum2(input):\n",
    "    return sum([p[0] // p[1]\n",
    "         for row in array(input)\n",
    "         for p in permutations(row, 2) \n",
    "         if p[0] > p[1] \n",
    "         and p[0] % p[1] == 0])\n",
    "        \n",
    "spreadsheet_checksum2(Input(2))"
   ]
  },
  {
   "cell_type": "markdown",
   "metadata": {},
   "source": [
    "# [Day 3](https://adventofcode.com/2017/day/3)"
   ]
  },
  {
   "cell_type": "code",
   "execution_count": 6,
   "metadata": {},
   "outputs": [
    {
     "data": {
      "text/plain": [
       "475"
      ]
     },
     "execution_count": 6,
     "metadata": {},
     "output_type": "execute_result"
    }
   ],
   "source": [
    "position = 277678\n",
    "\n",
    "a = math.ceil((math.sqrt(position)))\n",
    "if a % 2 == 0:\n",
    "    a += 1\n",
    "s = a * a - 4 * (a - 1) + 1\n",
    "h = (a - 1) // 2\n",
    "d = abs(((position - s + 1) % (a - 1)) - h)\n",
    "h + d"
   ]
  },
  {
   "cell_type": "code",
   "execution_count": 7,
   "metadata": {},
   "outputs": [
    {
     "data": {
      "text/plain": [
       "475"
      ]
     },
     "execution_count": 7,
     "metadata": {},
     "output_type": "execute_result"
    }
   ],
   "source": [
    "def populate(m, p, f):\n",
    "    cx, cy = p\n",
    "    px = cx - 1\n",
    "    py = cy\n",
    "    \n",
    "    while (cx - 1, cy) in m:\n",
    "        m[(cx, cy)] = f(m, (px, py), (cx, cy))\n",
    "        px = cx\n",
    "        py = cy\n",
    "        cy += 1\n",
    "        \n",
    "    while (cx, cy - 1) in m:\n",
    "        m[(cx, cy)] = f(m, (px, py), (cx, cy))\n",
    "        px = cx\n",
    "        py = cy\n",
    "        cx -= 1\n",
    "        \n",
    "    while (cx + 1, cy) in m:\n",
    "        m[(cx, cy)] = f(m, (px, py), (cx, cy))\n",
    "        px = cx\n",
    "        py = cy\n",
    "        cy -= 1\n",
    "        \n",
    "    while (cx, cy + 1) in m:\n",
    "        m[(cx, cy)] = f(m, (px, py), (cx, cy))\n",
    "        px = cx\n",
    "        py = cy\n",
    "        cx += 1\n",
    "        \n",
    "    return (cx, cy)\n",
    "\n",
    "def mem_find(cell):\n",
    "    n = (1, 0)\n",
    "    mem = OrderedDict([((0, 0), 1)])\n",
    "    \n",
    "    while not cell in mem.values():\n",
    "        n = populate(mem, n, lambda m, p, c: m[p] + 1)\n",
    "        \n",
    "    for p, c in mem.items():\n",
    "        if c == cell:\n",
    "            return p\n",
    "\n",
    "p = mem_find(position)\n",
    "cityblock_distance(p)\n"
   ]
  },
  {
   "cell_type": "code",
   "execution_count": 8,
   "metadata": {},
   "outputs": [
    {
     "data": {
      "text/plain": [
       "279138"
      ]
     },
     "execution_count": 8,
     "metadata": {},
     "output_type": "execute_result"
    }
   ],
   "source": [
    "def neigh(m, p, c):\n",
    "    return sum([m[n] for n in neighbors8(c) if n in m])\n",
    "        \n",
    "def mem_neigh_find(cell):\n",
    "    n = (1, 0)\n",
    "    mem = OrderedDict([((0, 0), 1)])\n",
    "    \n",
    "    while True:\n",
    "        n = populate(mem, n, neigh)\n",
    "        for p, c in mem.items():\n",
    "            if c > cell:\n",
    "                return c\n",
    "        \n",
    "mem_neigh_find(position)"
   ]
  },
  {
   "cell_type": "markdown",
   "metadata": {},
   "source": [
    "Different imlpementation based on complex numbers and a generator\n"
   ]
  },
  {
   "cell_type": "code",
   "execution_count": 9,
   "metadata": {},
   "outputs": [
    {
     "data": {
      "text/plain": [
       "475"
      ]
     },
     "execution_count": 9,
     "metadata": {},
     "output_type": "execute_result"
    }
   ],
   "source": [
    "U, D, R, L = 1j, -1j, 1, -1\n",
    "turns = {R:U, U:L, L:D, D:R}\n",
    "\n",
    "Cell = namedtuple('Cell', 'pos, dir, value')\n",
    "\n",
    "def cdistance(point): \n",
    "    return abs(point.real) + abs(point.imag)\n",
    "\n",
    "def cells(score):\n",
    "    pos = 0\n",
    "    direction = D\n",
    "    v = 1\n",
    "    occupied = {pos: v}\n",
    "    \n",
    "    while True:\n",
    "        yield Cell(pos, direction, v)\n",
    "        if not pos + turns[direction] in occupied:\n",
    "            direction = turns[direction]\n",
    "        \n",
    "        pos += direction\n",
    "        v = score(pos, v, occupied)\n",
    "        occupied[pos] = v\n",
    "            \n",
    "def mem_find2():            \n",
    "    for c in cells(lambda p, v, o: v + 1):\n",
    "        if(c.value >= position):\n",
    "            return int(cdistance(c.pos))\n",
    "\n",
    "mem_find2()"
   ]
  },
  {
   "cell_type": "code",
   "execution_count": 10,
   "metadata": {},
   "outputs": [
    {
     "data": {
      "text/plain": [
       "279138"
      ]
     },
     "execution_count": 10,
     "metadata": {},
     "output_type": "execute_result"
    }
   ],
   "source": [
    "def neigh8_c(p):\n",
    "    return (p+R, p+L, p+U, p+D, p+R+U, p+R+D, p+L+U, p+L+D)\n",
    "\n",
    "def mem_neigh_find2():            \n",
    "    for c in cells(lambda p, v, o: sum([o[n] for n in neigh8_c(p) if n in o])):\n",
    "        if(c.value >= position):\n",
    "            return c.value\n",
    "\n",
    "mem_neigh_find2()"
   ]
  },
  {
   "cell_type": "markdown",
   "metadata": {},
   "source": [
    "# [Day 4](https://adventofcode.com/2017/day/4)"
   ]
  },
  {
   "cell_type": "code",
   "execution_count": 11,
   "metadata": {},
   "outputs": [
    {
     "data": {
      "text/plain": [
       "466"
      ]
     },
     "execution_count": 11,
     "metadata": {},
     "output_type": "execute_result"
    }
   ],
   "source": [
    "def no_duplicates(passphrases):\n",
    "    valid = []\n",
    "    for passphrase in passphrases:\n",
    "        if len(passphrase) == len(set(passphrase)):\n",
    "            valid.append(passphrase)\n",
    "            \n",
    "    return valid\n",
    "    \n",
    "valid = no_duplicates(array(Input(4)))\n",
    "len(valid)"
   ]
  },
  {
   "cell_type": "code",
   "execution_count": 12,
   "metadata": {},
   "outputs": [
    {
     "data": {
      "text/plain": [
       "251"
      ]
     },
     "execution_count": 12,
     "metadata": {},
     "output_type": "execute_result"
    }
   ],
   "source": [
    "def no_anagrams(passphrases):\n",
    "    valid = []\n",
    "    for passphrase in passphrases:\n",
    "        ordred = mapt(cat, mapt(sorted, passphrase))\n",
    "        if len(ordred) == len(set(ordred)):\n",
    "            valid.append(passphrase)\n",
    "        \n",
    "    return valid\n",
    "    \n",
    "ana = no_anagrams(valid) \n",
    "len(ana)"
   ]
  },
  {
   "cell_type": "markdown",
   "metadata": {},
   "source": [
    "# [Day 5](https://adventofcode.com/2017/day/5)"
   ]
  },
  {
   "cell_type": "code",
   "execution_count": 13,
   "metadata": {},
   "outputs": [
    {
     "data": {
      "text/plain": [
       "358131"
      ]
     },
     "execution_count": 13,
     "metadata": {},
     "output_type": "execute_result"
    }
   ],
   "source": [
    "jumps = list(map(int, Input(5).split()))\n",
    "pos = 0\n",
    "steps = 0\n",
    "\n",
    "while(pos < len(jumps)):\n",
    "    p = pos\n",
    "    pos += jumps[pos]\n",
    "    jumps[p] += 1\n",
    "    steps += 1\n",
    "    \n",
    "steps"
   ]
  },
  {
   "cell_type": "code",
   "execution_count": 14,
   "metadata": {},
   "outputs": [
    {
     "data": {
      "text/plain": [
       "25558839"
      ]
     },
     "execution_count": 14,
     "metadata": {},
     "output_type": "execute_result"
    }
   ],
   "source": [
    "jumps = list(map(int, Input(5).split()))\n",
    "pos = 0\n",
    "steps = 0\n",
    "\n",
    "while(pos < len(jumps)):\n",
    "    p = pos\n",
    "    pos += jumps[pos]\n",
    "    if jumps[p] > 2:\n",
    "        jumps[p] -= 1\n",
    "    else:\n",
    "        jumps[p] += 1  \n",
    "    steps += 1\n",
    "    \n",
    "steps"
   ]
  },
  {
   "cell_type": "markdown",
   "metadata": {},
   "source": [
    "# [Day 6](https://adventofcode.com/2017/day/6)"
   ]
  },
  {
   "cell_type": "code",
   "execution_count": 15,
   "metadata": {},
   "outputs": [
    {
     "data": {
      "text/plain": [
       "11137"
      ]
     },
     "execution_count": 15,
     "metadata": {},
     "output_type": "execute_result"
    }
   ],
   "source": [
    "def get_cycles(banks):\n",
    "    seen = set()\n",
    "\n",
    "    while not tuple(banks) in seen:\n",
    "        seen.add(tuple(banks))\n",
    "        blocks = max(banks)\n",
    "        i = banks.index(blocks)\n",
    "        banks[i] = 0\n",
    "\n",
    "        while blocks > 0:\n",
    "            i += 1\n",
    "            i %= len(banks)\n",
    "            banks[i] += 1\n",
    "            blocks -= 1\n",
    "\n",
    "    return len(seen), banks\n",
    "\n",
    "assert get_cycles([0, 2, 7, 0])[0] == 5\n",
    "\n",
    "banks = list(array(Input(6))[0])\n",
    "assert len(banks) == 16\n",
    "cycles, end_banks = get_cycles(banks)\n",
    "cycles"
   ]
  },
  {
   "cell_type": "code",
   "execution_count": 16,
   "metadata": {},
   "outputs": [
    {
     "data": {
      "text/plain": [
       "1037"
      ]
     },
     "execution_count": 16,
     "metadata": {},
     "output_type": "execute_result"
    }
   ],
   "source": [
    "loop, _ = get_cycles(end_banks)\n",
    "loop"
   ]
  },
  {
   "cell_type": "markdown",
   "metadata": {},
   "source": [
    "# [Day 7](https://adventofcode.com/2017/day/7)"
   ]
  },
  {
   "cell_type": "code",
   "execution_count": 17,
   "metadata": {},
   "outputs": [
    {
     "data": {
      "text/plain": [
       "'gynfwly'"
      ]
     },
     "execution_count": 17,
     "metadata": {},
     "output_type": "execute_result"
    }
   ],
   "source": [
    "reports = array(Input(7))\n",
    "\n",
    "def create_tree(reports):\n",
    "    seen = set()\n",
    "    children = set()\n",
    "    tree = {}\n",
    "\n",
    "    for report in reports:\n",
    "        name = report[0]\n",
    "        ch = report[3:]\n",
    "        weight = int(report[1][1:-1])\n",
    "        seen.add(name)\n",
    "        if len(report) > 3:\n",
    "            children |= set(ch)\n",
    "            tree[name] = (weight, ch)\n",
    "        else:\n",
    "            tree[name] = (weight, [])\n",
    "        \n",
    "    return seen.difference(children).pop(), tree\n",
    "\n",
    "root, tower = create_tree(reports)\n",
    "root"
   ]
  },
  {
   "cell_type": "code",
   "execution_count": 18,
   "metadata": {},
   "outputs": [
    {
     "data": {
      "text/plain": [
       "1526"
      ]
     },
     "execution_count": 18,
     "metadata": {},
     "output_type": "execute_result"
    }
   ],
   "source": [
    "def subtower_weight(start):\n",
    "    stack = [start]\n",
    "    weight = 0\n",
    "    \n",
    "    while stack:\n",
    "        name = stack.pop()\n",
    "        weight += tower[name][0]\n",
    "        stack.extend(tower[name][1])\n",
    "    \n",
    "    return weight\n",
    "\n",
    "stack = [root]\n",
    "while stack:\n",
    "    name = stack.pop()\n",
    "    weights = {c: subtower_weight(c) for c in tower[name][1]}\n",
    "    lc = Counter(weights.values()).most_common()[-1]\n",
    "\n",
    "    if lc[1] == 1:\n",
    "        diff = lc[0] - Counter(weights.values()).most_common()[0][0]\n",
    "        stack.append([x for x, y in weights.items() if y == lc[0]][0])\n",
    "        \n",
    "tower[name][0] - diff"
   ]
  },
  {
   "cell_type": "markdown",
   "metadata": {},
   "source": [
    "# [Day 8](https://adventofcode.com/2017/day/8)"
   ]
  },
  {
   "cell_type": "code",
   "execution_count": 19,
   "metadata": {},
   "outputs": [
    {
     "data": {
      "text/plain": [
       "6012"
      ]
     },
     "execution_count": 19,
     "metadata": {},
     "output_type": "execute_result"
    }
   ],
   "source": [
    "instructions = array(Input(8).split('\\n'))\n",
    "\n",
    "def interpret(instructions):\n",
    "    registers = {}\n",
    "    max_r = 0\n",
    "    \n",
    "    for i in instructions:\n",
    "        out, op, v, cr = i[0], i[1], i[2], i[4]\n",
    "        \n",
    "        if not cr in registers:\n",
    "            registers[cr] = 0\n",
    "        if not out in registers:\n",
    "            registers[out] = 0\n",
    "            \n",
    "        exp = str(registers[cr]) + cat(map(str, i[5:]))\n",
    "            \n",
    "        if eval(exp):\n",
    "            if op == 'inc':\n",
    "                registers[out] += int(v)\n",
    "            else:\n",
    "                registers[out] -= int(v)\n",
    "                \n",
    "        if registers[out] > max_r:\n",
    "            max_r = registers[out]\n",
    "\n",
    "    return max_r, registers\n",
    "        \n",
    "max_r, registers = interpret(instructions)\n",
    "max(registers.values())"
   ]
  },
  {
   "cell_type": "code",
   "execution_count": 20,
   "metadata": {},
   "outputs": [
    {
     "data": {
      "text/plain": [
       "6369"
      ]
     },
     "execution_count": 20,
     "metadata": {},
     "output_type": "execute_result"
    }
   ],
   "source": [
    "max_r"
   ]
  },
  {
   "cell_type": "markdown",
   "metadata": {},
   "source": [
    "# [Day 9](https://adventofcode.com/2017/day/9)"
   ]
  },
  {
   "cell_type": "code",
   "execution_count": 21,
   "metadata": {},
   "outputs": [
    {
     "data": {
      "text/plain": [
       "(8337, 4330)"
      ]
     },
     "execution_count": 21,
     "metadata": {},
     "output_type": "execute_result"
    }
   ],
   "source": [
    "tests = [\n",
    "    (\"{{{},{},{{}}}}\", 16),\n",
    "    (\"{{<!!>},{<!!>},{<!!>},{<!!>}}\", 9),\n",
    "    (\"{{<ab>},{<ab>},{<ab>},{<ab>}}\", 9),\n",
    "    (\"{{<a!>},{<a!>},{<a!>},{<ab>}}\", 3)\n",
    "]\n",
    "\n",
    "def groups(stream):\n",
    "    stack, groups = [], []\n",
    "    garbage, ignore = False, False\n",
    "    score, garbage_size = 0, 0\n",
    "    \n",
    "    for i in range(len(stream)):\n",
    "        if not garbage:\n",
    "            if stream[i] == '{':\n",
    "                stack.append(i)\n",
    "            elif stream[i] == '}':\n",
    "                score += len(stack)\n",
    "                groups.append(stream[stack.pop():i+1])\n",
    "            elif stream[i] == '<':\n",
    "                garbage = True\n",
    "        else:\n",
    "            if not ignore:\n",
    "                if stream[i] == '!':\n",
    "                    ignore = True\n",
    "                elif stream[i] == '>':\n",
    "                    garbage = False\n",
    "                else:\n",
    "                    garbage_size += 1 \n",
    "            else:\n",
    "                ignore = False\n",
    "            \n",
    "    return score, garbage_size\n",
    "  \n",
    "for stream, score in tests:\n",
    "    s, _ = groups(stream)\n",
    "    assert s == score\n",
    "    \n",
    "groups(Input(9))"
   ]
  },
  {
   "cell_type": "markdown",
   "metadata": {},
   "source": [
    "# [Day 10](https://adventofcode.com/2017/day/10)"
   ]
  },
  {
   "cell_type": "code",
   "execution_count": 22,
   "metadata": {},
   "outputs": [
    {
     "data": {
      "text/plain": [
       "4480"
      ]
     },
     "execution_count": 22,
     "metadata": {},
     "output_type": "execute_result"
    }
   ],
   "source": [
    "def split(li, b, l):\n",
    "    b %= len(li)\n",
    "    e = (b + l) % len(li)\n",
    "    if e < b:\n",
    "        return li[b:] + li[:e], li[e:b]\n",
    "    else:\n",
    "        return li[b:e], li[e:] + li[:b]\n",
    "\n",
    "def knot_hash(input, sl, repeat=1):\n",
    "    skip, pos = 0, 0\n",
    "    hash = [i for i in range(sl)]\n",
    "    \n",
    "    for _ in range(repeat):\n",
    "        for i in input:\n",
    "            a, b = split(hash, pos, i)\n",
    "            hash = list(reversed(a)) + b\n",
    "            hash = hash[sl - pos:] + hash[:sl - pos]\n",
    "\n",
    "            pos = (pos + i + skip) % sl\n",
    "            skip += 1\n",
    "\n",
    "    return hash\n",
    "\n",
    "input = \"63,144,180,149,1,255,167,84,125,65,188,0,2,254,229,24\"\n",
    "test = knot_hash([3, 4, 1, 5], 5)\n",
    "assert test[0] * test[1] == 12\n",
    "out1 = knot_hash([int(v) for v in input.split(',')], 256)\n",
    "out1[0] * out1[1]"
   ]
  },
  {
   "cell_type": "code",
   "execution_count": 23,
   "metadata": {},
   "outputs": [
    {
     "data": {
      "text/plain": [
       "'c500ffe015c83b60fad2e4b7d59dabc4'"
      ]
     },
     "execution_count": 23,
     "metadata": {},
     "output_type": "execute_result"
    }
   ],
   "source": [
    "from functools import reduce\n",
    "from binascii import hexlify\n",
    "\n",
    "def sparse(input):\n",
    "    bytes = [ord(c) for c in input] + [17, 31, 73, 47, 23]\n",
    "    sparse = knot_hash(bytes, 256, 64)\n",
    "    dense = []\n",
    "    for s in [sparse[i:i+16] for i in range(0, 256, 16)]:\n",
    "        dense.append(reduce(lambda a,x: a^x, s))\n",
    "    return str(hexlify(bytearray(dense)))[2:-1]\n",
    "    \n",
    "assert sparse(\"\") == 'a2582a3a0e66e6e86e3812dcb672a272'\n",
    "assert sparse(\"AoC 2017\") == '33efeb34ea91902bb2f59c9920caa6cd'\n",
    "assert sparse(\"1,2,3\") == '3efbe78a8d82f29979031a4aa0b16a9d'\n",
    "assert sparse(\"1,2,4\") == '63960835bcdc130f0b66d7ff4f6a5a8e'\n",
    "sparse(input)"
   ]
  },
  {
   "cell_type": "markdown",
   "metadata": {},
   "source": [
    "# [Day 11](https://adventofcode.com/2017/day/11)"
   ]
  },
  {
   "cell_type": "code",
   "execution_count": 24,
   "metadata": {},
   "outputs": [
    {
     "data": {
      "text/plain": [
       "(643, 1471)"
      ]
     },
     "execution_count": 24,
     "metadata": {},
     "output_type": "execute_result"
    }
   ],
   "source": [
    "path = Input(11).split(',')\n",
    "\n",
    "dirs = {'n':  (1, -1, 0),\n",
    "        'ne': (0, -1, 1),\n",
    "        'se': (-1, 0, 1),\n",
    "        's':  (-1, 1, 0),\n",
    "        'sw': (0, 1, -1),\n",
    "        'nw': (1, 0, -1)\n",
    "        }\n",
    "\n",
    "def hex_dist(point):\n",
    "    x, y, z = point\n",
    "    return (abs(x) + abs(y) + abs(z)) // 2\n",
    "            \n",
    "def hex_find(path):\n",
    "    maxp = (0, 0, 0)\n",
    "    goal = (0, 0, 0)\n",
    "    for d in path:\n",
    "        dx, dy, dz = dirs[d]\n",
    "        goal = (goal[0]+dx, goal[1]+dy, goal[2]+dz)\n",
    "        if hex_dist(goal) > hex_dist(maxp):\n",
    "            maxp = goal\n",
    "\n",
    "    return hex_dist(goal), hex_dist(maxp)\n",
    "\n",
    "hex_find(path)\n"
   ]
  },
  {
   "cell_type": "markdown",
   "metadata": {},
   "source": [
    "# [Day 12](https://adventofcode.com/2017/day/12)"
   ]
  },
  {
   "cell_type": "code",
   "execution_count": 25,
   "metadata": {},
   "outputs": [
    {
     "data": {
      "text/plain": [
       "380"
      ]
     },
     "execution_count": 25,
     "metadata": {},
     "output_type": "execute_result"
    }
   ],
   "source": [
    "test_input = \"\"\"\n",
    "0 <-> 2\n",
    "1 <-> 1\n",
    "2 <-> 0, 3, 4\n",
    "3 <-> 2, 4\n",
    "4 <-> 2, 3, 6\n",
    "5 <-> 6\n",
    "6 <-> 4, 5\n",
    "\"\"\".strip()\n",
    "\n",
    "def get_entries(input):\n",
    "    entries = {entry[0]: set(entry[2:]) for entry in array(input)}         \n",
    "    return entries\n",
    "\n",
    "def group(pid, entries):\n",
    "\n",
    "    stack = [pid]\n",
    "    g = frozenset()\n",
    "\n",
    "    while stack:\n",
    "        pid = stack.pop()\n",
    "        stack.extend(list(entries[pid].difference(g)))\n",
    "        g |= entries[pid]\n",
    "\n",
    "    return g\n",
    "\n",
    "test_entries = get_entries(test_input)\n",
    "input_entries = get_entries(Input(12))\n",
    "    \n",
    "assert len(group(0, test_entries)) == 6\n",
    "len(group(0, input_entries))"
   ]
  },
  {
   "cell_type": "code",
   "execution_count": 26,
   "metadata": {},
   "outputs": [
    {
     "name": "stdout",
     "output_type": "stream",
     "text": [
      "CPU times: user 996 ms, sys: 0 ns, total: 996 ms\n",
      "Wall time: 998 ms\n"
     ]
    },
    {
     "data": {
      "text/plain": [
       "181"
      ]
     },
     "execution_count": 26,
     "metadata": {},
     "output_type": "execute_result"
    }
   ],
   "source": [
    "def total(entries):\n",
    "    groups = set(group(pid, entries) for pid in entries.keys())\n",
    "    return len(groups)\n",
    "        \n",
    "assert total(test_entries) == 2\n",
    "%time total(input_entries)"
   ]
  },
  {
   "cell_type": "markdown",
   "metadata": {},
   "source": [
    "# [Day 13](https://adventofcode.com/2017/day/13)"
   ]
  },
  {
   "cell_type": "code",
   "execution_count": 27,
   "metadata": {},
   "outputs": [
    {
     "data": {
      "text/plain": [
       "2508"
      ]
     },
     "execution_count": 27,
     "metadata": {},
     "output_type": "execute_result"
    }
   ],
   "source": [
    "test_input = '''\n",
    "0: 3\n",
    "1: 2\n",
    "4: 4\n",
    "6: 4\n",
    "'''.strip()\n",
    "\n",
    "def get_severity(firewall, delay=0):\n",
    "    severity = 0\n",
    "    caught = 0\n",
    "    s = max(firewall.keys())+1\n",
    "    for p in range(s):\n",
    "        if p in firewall:\n",
    "            if (delay + p) % (2 * (firewall[p] - 1)) == 0:\n",
    "                severity += p*firewall[p]\n",
    "                caught += 1\n",
    "            \n",
    "    return severity, caught\n",
    "\n",
    "test_firewall = {d:r for d,r in array(test_input.replace(':', ''))}\n",
    "firewall = {d:r for d,r in array(Input(13).replace(':', ''))}\n",
    "assert get_severity(test_firewall)[0] == 24\n",
    "get_severity(firewall)[0]"
   ]
  },
  {
   "cell_type": "code",
   "execution_count": 28,
   "metadata": {},
   "outputs": [
    {
     "name": "stdout",
     "output_type": "stream",
     "text": [
      "CPU times: user 43.4 s, sys: 0 ns, total: 43.4 s\n",
      "Wall time: 43.4 s\n"
     ]
    }
   ],
   "source": [
    "%%time\n",
    "assert get_severity(test_firewall, 10)[0] == 0\n",
    "\n",
    "delay = 0\n",
    "while True:\n",
    "    _, c = get_severity(firewall, delay)\n",
    "    if c == 0:\n",
    "        break\n",
    "    delay += 1\n",
    "delay"
   ]
  },
  {
   "cell_type": "markdown",
   "metadata": {},
   "source": [
    "# [Day 14](https://adventofcode.com/2017/day/14)"
   ]
  },
  {
   "cell_type": "code",
   "execution_count": 29,
   "metadata": {},
   "outputs": [
    {
     "data": {
      "text/plain": [
       "8316"
      ]
     },
     "execution_count": 29,
     "metadata": {},
     "output_type": "execute_result"
    }
   ],
   "source": [
    "def get_grid(input):\n",
    "    row = lambda x: cat([format((int(d,16)), '04b') for d in sparse(x)])\n",
    "    return [row(input + '-' + str(i)) for i in range(128)]\n",
    "\n",
    "test_grid = get_grid(\"flqrgnkx\")\n",
    "assert Counter(cat(test_grid))['1'] == 8108\n",
    "grid = get_grid(\"ljoxqyyw\")\n",
    "Counter(cat(grid))['1']"
   ]
  },
  {
   "cell_type": "code",
   "execution_count": 30,
   "metadata": {},
   "outputs": [
    {
     "data": {
      "text/plain": [
       "1074"
      ]
     },
     "execution_count": 30,
     "metadata": {},
     "output_type": "execute_result"
    }
   ],
   "source": [
    "def regions(grid):\n",
    "    visited = set()\n",
    "    cells = [(x, y) for x in range(128) for y in range(128)]\n",
    "\n",
    "    regs = 0\n",
    "    dmap = [['.']*128 for _ in range(128)]\n",
    "    for c in cells:\n",
    "        x, y = c\n",
    "        if grid[y][x] == '1' and not c in visited:\n",
    "            regs += 1\n",
    "            visited |= set([c])\n",
    "            stack = [c]\n",
    "            while stack:\n",
    "                cc = stack.pop()\n",
    "                n = [x for x in filter(lambda p: X(p) >=0 and Y(p) >= 0\n",
    "                           and X(p) <= 127 and Y(p) <= 127\n",
    "                           and grid[Y(p)][X(p)] == '1'\n",
    "                           and not p in visited,\n",
    "                           neighbors4(cc))]\n",
    "                stack.extend(n)\n",
    "                visited |= set(n)\n",
    "\n",
    "    return regs\n",
    "\n",
    "assert regions(test_grid) == 1242\n",
    "regions(grid)"
   ]
  },
  {
   "cell_type": "markdown",
   "metadata": {},
   "source": [
    "# [Day 15](https://adventofcode.com/2017/day/15)"
   ]
  },
  {
   "cell_type": "code",
   "execution_count": 31,
   "metadata": {},
   "outputs": [
    {
     "data": {
      "text/plain": [
       "638"
      ]
     },
     "execution_count": 31,
     "metadata": {},
     "output_type": "execute_result"
    }
   ],
   "source": [
    "import itertools\n",
    "\n",
    "fA = 16807\n",
    "fB = 48271\n",
    "\n",
    "def gen(s, f, crit=None):\n",
    "    while True:\n",
    "        s = (s * f) % 2147483647\n",
    "        if crit is None or s % crit == 0:\n",
    "            yield s\n",
    "\n",
    "def total_matches(ga, gb, mx=40000000):\n",
    "    total = 0\n",
    "    for a, b in itertools.islice(zip(ga, gb), mx):\n",
    "        if (a & 0xFFFF) == (b & 0xFFFF):\n",
    "            total += 1\n",
    "    return total\n",
    "\n",
    "#assert total_matches(gen(65, fA), gen(8921, fB)) == 588\n",
    "total_matches(gen(289, fA), gen(629, fB))"
   ]
  },
  {
   "cell_type": "code",
   "execution_count": 32,
   "metadata": {},
   "outputs": [
    {
     "data": {
      "text/plain": [
       "343"
      ]
     },
     "execution_count": 32,
     "metadata": {},
     "output_type": "execute_result"
    }
   ],
   "source": [
    "total_matches(gen(289, fA, 4), gen(629, fB, 8), 5000000)"
   ]
  },
  {
   "cell_type": "markdown",
   "metadata": {},
   "source": [
    "# [Day 16](https://adventofcode.com/2017/day/16)"
   ]
  },
  {
   "cell_type": "code",
   "execution_count": 33,
   "metadata": {},
   "outputs": [
    {
     "data": {
      "text/plain": [
       "'ebjpfdgmihonackl'"
      ]
     },
     "execution_count": 33,
     "metadata": {},
     "output_type": "execute_result"
    }
   ],
   "source": [
    "def prgms(l):\n",
    "    return [chr(i) for i in range(ord('a'), ord(l)+1)]\n",
    "\n",
    "def dance(moves, s):\n",
    "    for m in moves:\n",
    "        if m[0] == 's':\n",
    "            s = s[len(s)-int(m[1:]):] + s[:len(s)-int(m[1:])]\n",
    "        elif m[0] == 'x':\n",
    "            p1, p2 = map(int, m[1:].split(\"/\"))\n",
    "            s[p1], s[p2] = s[p2], s[p1]\n",
    "        elif m[0] == 'p':\n",
    "            p1, p2 = m[1:].split(\"/\")\n",
    "            p1 = cat(s).find(p1)\n",
    "            p2 = cat(s).find(p2)\n",
    "            s[p1], s[p2] = s[p2], s[p1]\n",
    "    return s\n",
    "\n",
    "assert cat(dance(['s1', 'x3/4', 'pe/b'], prgms('e'))) == 'baedc'\n",
    "cat(dance(array(Input(16))[0], prgms('p')))"
   ]
  },
  {
   "cell_type": "code",
   "execution_count": 34,
   "metadata": {},
   "outputs": [
    {
     "data": {
      "text/plain": [
       "'abocefghijklmndp'"
      ]
     },
     "execution_count": 34,
     "metadata": {},
     "output_type": "execute_result"
    }
   ],
   "source": [
    "def dance_rep(moves, s, i):\n",
    "    start = cat(s)\n",
    "    togo = i\n",
    "    while togo > 0:\n",
    "        s = dance(moves, s)\n",
    "        if cat(s) == start:\n",
    "            togo = i % (i - togo + 1)\n",
    "        else:\n",
    "            togo -= 1\n",
    "    return s\n",
    "        \n",
    "assert cat(dance_rep(['s1', 'x3/4', 'pe/b'], prgms('e'), 2)) == 'ceadb'\n",
    "cat(dance_rep(array(Input(16))[0], prgms('p'), 1000000000))"
   ]
  },
  {
   "cell_type": "markdown",
   "metadata": {},
   "source": [
    "# [Day 17](https://adventofcode.com/2017/day/17)"
   ]
  },
  {
   "cell_type": "code",
   "execution_count": 35,
   "metadata": {},
   "outputs": [
    {
     "data": {
      "text/plain": [
       "419"
      ]
     },
     "execution_count": 35,
     "metadata": {},
     "output_type": "execute_result"
    }
   ],
   "source": [
    "def spinlock(step):\n",
    "    state, pos, count = [0], 0, 0\n",
    "    while True:\n",
    "        yield state[(pos+1) % len(state)]\n",
    "        pos = (pos + step) % len(state) + 1\n",
    "        count += 1\n",
    "        state.insert(pos, count)\n",
    "\n",
    "def spin(spinlock, times=2017):\n",
    "    for _ in range(times):\n",
    "        next(spinlock)\n",
    "    return next(spinlock)\n",
    "   \n",
    "assert spin(spinlock(3)) == 638\n",
    "spin(spinlock(386))"
   ]
  },
  {
   "cell_type": "code",
   "execution_count": 36,
   "metadata": {},
   "outputs": [
    {
     "name": "stdout",
     "output_type": "stream",
     "text": [
      "CPU times: user 13.6 s, sys: 4 ms, total: 13.6 s\n",
      "Wall time: 13.6 s\n"
     ]
    },
    {
     "data": {
      "text/plain": [
       "46038988"
      ]
     },
     "execution_count": 36,
     "metadata": {},
     "output_type": "execute_result"
    }
   ],
   "source": [
    "def spinlock2(step):\n",
    "    pos, count, out = 0, 0, 0\n",
    "    while True:\n",
    "        yield out\n",
    "        pos = ((pos + step) % (count + 1)) + 1\n",
    "        count += 1\n",
    "        if pos == 1:\n",
    "            out = count\n",
    "        \n",
    "%time spin(spinlock2(386), 50000000)"
   ]
  },
  {
   "cell_type": "markdown",
   "metadata": {},
   "source": [
    "# [Day 18](https://adventofcode.com/2017/day/18)"
   ]
  },
  {
   "cell_type": "code",
   "execution_count": 37,
   "metadata": {},
   "outputs": [
    {
     "data": {
      "text/plain": [
       "4601"
      ]
     },
     "execution_count": 37,
     "metadata": {},
     "output_type": "execute_result"
    }
   ],
   "source": [
    "from collections import deque\n",
    "\n",
    "test_duet = array(\"\"\"\n",
    "set a 1\n",
    "add a 2\n",
    "mul a a\n",
    "mod a 5\n",
    "snd a\n",
    "set a 0\n",
    "rcv a\n",
    "jgz a -1\n",
    "set a 1\n",
    "jgz a -2\n",
    "\"\"\".strip())\n",
    "\n",
    "def prgm(inst, inp, out, pid=0):\n",
    "    regs = defaultdict(int)\n",
    "    regs['p'] = pid\n",
    "    i, s, l = 0, 0, 0\n",
    "    ev = lambda a: regs[a] if isinstance(a, str) else a\n",
    "    \n",
    "    while i >= 0 and i < len(inst):\n",
    "        cmd = inst[i]\n",
    "        \n",
    "        if cmd[0] == 'snd':\n",
    "            out.append(ev(cmd[1]))\n",
    "            l = ev(cmd[1])\n",
    "            s += 1\n",
    "        elif cmd[0] == 'set':\n",
    "            regs[cmd[1]] = ev(cmd[2])\n",
    "        elif cmd[0] == 'add':\n",
    "            regs[cmd[1]] += ev(cmd[2])\n",
    "        elif cmd[0] == 'mul':\n",
    "            regs[cmd[1]] *= ev(cmd[2])\n",
    "        elif cmd[0] == 'mod':\n",
    "            regs[cmd[1]] %= ev(cmd[2])\n",
    "        elif cmd[0] == 'rcv':\n",
    "            while len(inp) == 0:\n",
    "                yield l, s\n",
    "            regs[cmd[1]] = inp.popleft()\n",
    "        elif cmd[0] == 'jgz' and ev(cmd[1]) > 0:\n",
    "            i += ev(cmd[2])\n",
    "            continue\n",
    "        i += 1\n",
    "        \n",
    "def run(inst):\n",
    "    inp, out = deque(), deque()\n",
    "    p = prgm(inst, inp, out)\n",
    "    return next(p)\n",
    "\n",
    "assert run(test_duet)[0] == 4\n",
    "run(array(Input(18)))[0]"
   ]
  },
  {
   "cell_type": "code",
   "execution_count": 38,
   "metadata": {},
   "outputs": [
    {
     "data": {
      "text/plain": [
       "6858"
      ]
     },
     "execution_count": 38,
     "metadata": {},
     "output_type": "execute_result"
    }
   ],
   "source": [
    "def run2(inst):\n",
    "    inp, out = deque(), deque()\n",
    "    p0 = prgm(inst, inp, out, 0)\n",
    "    p1 = prgm(inst, out, inp, 1)\n",
    "    \n",
    "    while True:\n",
    "        next(p0)\n",
    "        s1 = next(p1)\n",
    "        if len(inp)==0 and len(out)==0:\n",
    "            break\n",
    "        \n",
    "    return s1\n",
    "    \n",
    "run2(array(Input(18)))[1]"
   ]
  },
  {
   "cell_type": "markdown",
   "metadata": {},
   "source": [
    "# [Day 19](https://adventofcode.com/2017/day/19)"
   ]
  },
  {
   "cell_type": "code",
   "execution_count": 39,
   "metadata": {},
   "outputs": [
    {
     "data": {
      "text/plain": [
       "'KGPTMEJVS'"
      ]
     },
     "execution_count": 39,
     "metadata": {},
     "output_type": "execute_result"
    }
   ],
   "source": [
    "ppath = open(\"input_day19.txt\").read().splitlines()\n",
    "\n",
    "def traverse(path):\n",
    "    p = (path[0].index('|'), 0) #starting point\n",
    "    d = (0, 1) #direction == down\n",
    "    pp, s, steps = p, \"\", 0\n",
    "    \n",
    "    while True:\n",
    "        np = (X(p) + X(d), Y(p) + Y(d))\n",
    "        steps += 1\n",
    "        \n",
    "        if path[Y(np)][X(np)] == ' ':\n",
    "            nn = list(filter(lambda a: a != pp and path[Y(a)][X(a)] != ' ', neighbors4(p)))\n",
    "            if len(nn) == 0: break #blind alley?\n",
    "            assert len(nn) == 1\n",
    "            np = nn[0]\n",
    "            d = (X(np) - X(p), Y(np) - Y(p))\n",
    "\n",
    "        if path[Y(np)][X(np)].isalpha():\n",
    "            s += path[Y(np)][X(np)]\n",
    "            \n",
    "        pp, p = p, np\n",
    "        \n",
    "    return s, steps\n",
    "    \n",
    "traverse(ppath)[0]"
   ]
  },
  {
   "cell_type": "code",
   "execution_count": 40,
   "metadata": {},
   "outputs": [
    {
     "data": {
      "text/plain": [
       "16328"
      ]
     },
     "execution_count": 40,
     "metadata": {},
     "output_type": "execute_result"
    }
   ],
   "source": [
    "traverse(ppath)[1]"
   ]
  },
  {
   "cell_type": "markdown",
   "metadata": {},
   "source": [
    "# [Day 20](https://adventofcode.com/2017/day/20)"
   ]
  },
  {
   "cell_type": "code",
   "execution_count": 41,
   "metadata": {},
   "outputs": [
    {
     "data": {
      "text/plain": [
       "125"
      ]
     },
     "execution_count": 41,
     "metadata": {},
     "output_type": "execute_result"
    }
   ],
   "source": [
    "def particles(input):\n",
    "    parts = {}\n",
    "    \n",
    "    for i, l in enumerate(input.splitlines()):\n",
    "        p = mapt(int, re.findall(r\"-?\\d+\", l))\n",
    "        parts[i] = (p[0:3], p[3:6], p[6:9])\n",
    "    return parts\n",
    "\n",
    "def evolve(parts):\n",
    "    for k,vl in parts.items():\n",
    "        p,v,a = vl\n",
    "        nv = (v[0] + a[0], v[1] + a[1], v[2] + a[2])\n",
    "        np = (p[0] + nv[0], p[1] + nv[1], p[2] + nv[2])\n",
    "        parts[k] = (np, nv, a)\n",
    "        \n",
    "def find_closest(parts, process=None):\n",
    "    pdist = lambda p: sum([abs(a) for a in p])\n",
    "    psort = lambda pc: sorted(pc, key=lambda p: pdist(pc.get(p)[0]))\n",
    "    s1 = psort(parts)\n",
    "    \n",
    "    while True:\n",
    "        if process:\n",
    "            process(parts)\n",
    "            \n",
    "        evolve(parts)\n",
    "        s2 = psort(parts)  # check if no particles pass each other\n",
    "        if s1 == s2: break # and treat this as 'steady state'\n",
    "        s1 = s2\n",
    "    \n",
    "    return s2[0], len(parts)\n",
    "\n",
    "p = particles(Input(20))\n",
    "find_closest(p)[0]"
   ]
  },
  {
   "cell_type": "code",
   "execution_count": 42,
   "metadata": {},
   "outputs": [
    {
     "data": {
      "text/plain": [
       "461"
      ]
     },
     "execution_count": 42,
     "metadata": {},
     "output_type": "execute_result"
    }
   ],
   "source": [
    "def pproces(parts):\n",
    "    c = Counter([v[0] for k,v in parts.items()])\n",
    "    cols = [a for a in c if c[a] > 1]\n",
    "    ci = [k for k,v in parts.items() if v[0] in cols]\n",
    "        \n",
    "    for i in ci:\n",
    "        parts.pop(i)\n",
    "\n",
    "p = particles(Input(20))\n",
    "find_closest(p, pproces)[1]"
   ]
  },
  {
   "cell_type": "markdown",
   "metadata": {},
   "source": [
    "# [Day 21](https://adventofcode.com/2017/day/21)"
   ]
  },
  {
   "cell_type": "code",
   "execution_count": 43,
   "metadata": {},
   "outputs": [
    {
     "name": "stdout",
     "output_type": "stream",
     "text": [
      "#.##..#.##..#.##.#\n",
      ".#.....#.....#..#.\n",
      "#.....#.....#..#..\n",
      "..#..#..#..#..##.#\n",
      "..#..#..#..#..#.#.\n",
      "#..#..#..#..#..#..\n",
      "#.##..#.##....##.#\n",
      ".#.....#....#.#.#.\n",
      "#.....#.......##..\n",
      "..#..#..#..#..#...\n",
      "..#..#..#..##.##..\n",
      "#..#..#..#....#..#\n",
      "#.##.##.##..#.##..\n",
      ".#..#..#.....#....\n",
      "#..#..#.....#.....\n",
      "..##.#..#..#..#..#\n",
      "..#.#...#..#..#..#\n",
      "#..#..#..#..#..#..\n",
      "\n"
     ]
    },
    {
     "data": {
      "text/plain": [
       "110"
      ]
     },
     "execution_count": 43,
     "metadata": {},
     "output_type": "execute_result"
    }
   ],
   "source": [
    "def tiles(tile):\n",
    "    rot = lambda s: '/'.join(map(cat, zip(*(s.split('/'))[::-1])))\n",
    "    flip = lambda s: '/'.join([l[::-1] for l in s.split('/')])\n",
    "    \n",
    "    ftile = flip(tile)\n",
    "    t = {tile, ftile}\n",
    "    for _ in range(3):\n",
    "        tile = rot(tile)\n",
    "        ftile = rot(ftile)\n",
    "        t |= {tile, ftile}\n",
    "    return t\n",
    "\n",
    "def rules(input):\n",
    "    rules = {}\n",
    "    for l in input.strip().splitlines():\n",
    "        k, v = (l.replace(' ', '').split('=>'))\n",
    "        rules[k] = v\n",
    "        for t in tiles(k):\n",
    "            rules[t] = v\n",
    "            \n",
    "    return rules\n",
    "\n",
    "def stitch(tiles):\n",
    "    tt = [t.split('/') for t in tiles]\n",
    "    s = []\n",
    "    for r in zip(*tt):\n",
    "        s += [''.join(r)]\n",
    "    return s\n",
    "\n",
    "def unfold(rules):\n",
    "    pat = \\\n",
    "    \"\"\"\n",
    "    .#.\n",
    "    ..#\n",
    "    ###\n",
    "    \"\"\"\n",
    "    \n",
    "    while True:\n",
    "        sm = [r.strip() for r in pat.strip().splitlines()]\n",
    "        ps = len(sm)\n",
    "        assert ps == sum(map(len,sm))/ps\n",
    "\n",
    "        m = []\n",
    "        step = 2 if (ps % 2) == 0 else 3\n",
    "        size = ps // step\n",
    "        for y in range(0, ps, step):\n",
    "            for x in range(0, ps, step):\n",
    "                m += ['/'.join([sm[yy][x:x+step] for yy in range(y, y+step)])]\n",
    "\n",
    "        for i, t in enumerate(m):\n",
    "            m[i] = rules[t]\n",
    "\n",
    "        pat = \"\"\n",
    "        for y in range(0, size*size, size):\n",
    "            for l in stitch(m[y:y+size]):\n",
    "                pat += l + '\\n'\n",
    "        yield pat\n",
    "        \n",
    "tr = rules(Input(21))\n",
    "g = unfold(tr)\n",
    "t = [t for t in islice(g, 0, 5)][-1]\n",
    "print(t)\n",
    "sum(1 if x == '#' else 0 for x in t)"
   ]
  },
  {
   "cell_type": "code",
   "execution_count": 44,
   "metadata": {},
   "outputs": [
    {
     "name": "stdout",
     "output_type": "stream",
     "text": [
      "CPU times: user 1.64 s, sys: 4 ms, total: 1.65 s\n",
      "Wall time: 1.65 s\n"
     ]
    },
    {
     "data": {
      "text/plain": [
       "1277716"
      ]
     },
     "execution_count": 44,
     "metadata": {},
     "output_type": "execute_result"
    }
   ],
   "source": [
    "g = unfold(tr)\n",
    "%time t = [t for t in islice(g, 0, 18)][-1]\n",
    "sum(1 if x == '#' else 0 for x in t)"
   ]
  },
  {
   "cell_type": "markdown",
   "metadata": {},
   "source": [
    "# [Day 22](https://adventofcode.com/2017/day/22)"
   ]
  },
  {
   "cell_type": "code",
   "execution_count": 45,
   "metadata": {},
   "outputs": [
    {
     "data": {
      "text/plain": [
       "5450"
      ]
     },
     "execution_count": 45,
     "metadata": {},
     "output_type": "execute_result"
    }
   ],
   "source": [
    "U, D, R, L = -1j, 1j, 1, -1\n",
    "left  = {R:U, U:L, L:D, D:R}\n",
    "right = {R:D, D:L, L:U, U:R}\n",
    "rev   = {R:L, L:R, U:D, D:U}\n",
    "    \n",
    "def grid(input):\n",
    "    grid  = {}\n",
    "    size = len(input.splitlines())\n",
    "    for y, l in enumerate(input.splitlines()):\n",
    "        assert len(l) == size\n",
    "        for x, n in enumerate(l):\n",
    "            if n == '#':\n",
    "                grid[complex(x,y)] = 'I'\n",
    "                \n",
    "    return grid, size\n",
    "\n",
    "def infection(pos, grid):\n",
    "    inf = 0\n",
    "    d = U\n",
    "    \n",
    "    while True:\n",
    "        if pos in grid:\n",
    "            d = right[d]\n",
    "            grid.pop(pos)\n",
    "        else:\n",
    "            d = left[d]\n",
    "            grid[pos] = 'I'\n",
    "            inf += 1\n",
    "        yield inf\n",
    "        pos += d\n",
    "        \n",
    "def infections(input, rep, i=infection):\n",
    "    g, size = grid(input)\n",
    "    pos = complex(size // 2, size // 2)\n",
    "    sim = i(pos, g)\n",
    "    return [s for s in islice(sim, 0, rep)][-1]\n",
    "\n",
    "ig = \"\"\"..#\n",
    "#..\n",
    "...\"\"\".strip()\n",
    "\n",
    "assert infections(ig, 70) == 41\n",
    "assert infections(ig, 10000) == 5587\n",
    "\n",
    "infections(Input(22), 10000)"
   ]
  },
  {
   "cell_type": "code",
   "execution_count": 46,
   "metadata": {},
   "outputs": [
    {
     "name": "stdout",
     "output_type": "stream",
     "text": [
      "CPU times: user 5.52 s, sys: 52 ms, total: 5.57 s\n",
      "Wall time: 5.58 s\n"
     ]
    },
    {
     "data": {
      "text/plain": [
       "2511957"
      ]
     },
     "execution_count": 46,
     "metadata": {},
     "output_type": "execute_result"
    }
   ],
   "source": [
    "def infection2(pos, grid):\n",
    "    inf = 0\n",
    "    d = U\n",
    "    \n",
    "    while True:\n",
    "        if pos in grid:\n",
    "            if grid[pos] == 'I':\n",
    "                d = right[d]\n",
    "                grid[pos] = 'F'\n",
    "            elif grid[pos] == 'F':\n",
    "                d = rev[d]\n",
    "                grid.pop(pos)\n",
    "            elif grid[pos] == 'W':\n",
    "                grid[pos] = 'I'\n",
    "                inf += 1\n",
    "        else:\n",
    "            d = left[d]\n",
    "            grid[pos] = 'W'\n",
    "\n",
    "        yield inf\n",
    "        pos += d\n",
    "\n",
    "assert infections(ig, 100, infection2) == 26\n",
    "assert infections(ig, 10000000, infection2) == 2511944\n",
    "%time infections(Input(22), 10000000, infection2)"
   ]
  },
  {
   "cell_type": "markdown",
   "metadata": {},
   "source": [
    "# [Day 23](https://adventofcode.com/2017/day/23)"
   ]
  },
  {
   "cell_type": "code",
   "execution_count": 47,
   "metadata": {},
   "outputs": [
    {
     "data": {
      "text/plain": [
       "4225"
      ]
     },
     "execution_count": 47,
     "metadata": {},
     "output_type": "execute_result"
    }
   ],
   "source": [
    "def prgm(inst, a = 0):\n",
    "    regs = defaultdict(int)\n",
    "    regs['a'] = a\n",
    "    i, mc = 0, 0\n",
    "    ev = lambda a: regs[a] if isinstance(a, str) else a\n",
    "    \n",
    "    while i >= 0 and i < len(inst):\n",
    "        cmd = inst[i]\n",
    "        if cmd[0] == 'set':\n",
    "            regs[cmd[1]] = ev(cmd[2])\n",
    "        elif cmd[0] == 'sub':\n",
    "            regs[cmd[1]] -= ev(cmd[2])\n",
    "        elif cmd[0] == 'mul':\n",
    "            regs[cmd[1]] *= ev(cmd[2])\n",
    "            mc += 1\n",
    "        elif cmd[0] == 'jnz' and ev(cmd[1]) != 0:\n",
    "            i += ev(cmd[2])\n",
    "            continue\n",
    "        i += 1\n",
    "    return mc\n",
    "        \n",
    "instr = array(Input(23))\n",
    "prgm(instr)"
   ]
  },
  {
   "cell_type": "code",
   "execution_count": 48,
   "metadata": {},
   "outputs": [
    {
     "data": {
      "text/plain": [
       "905"
      ]
     },
     "execution_count": 48,
     "metadata": {},
     "output_type": "execute_result"
    }
   ],
   "source": [
    "def optim(b, c):\n",
    "    h = 0\n",
    "    while True:\n",
    "        f = 1\n",
    "        for i in range(2, b):\n",
    "            if (b % i) == 0:\n",
    "                f = 0\n",
    "                break\n",
    "        if f == 0:\n",
    "            h += 1\n",
    "        if b == c:\n",
    "            break\n",
    "\n",
    "        b += 17\n",
    "    return h\n",
    "\n",
    "b = 67\n",
    "c = 67\n",
    "b = b*100+100000\n",
    "c = b + 17000\n",
    "optim(b, c)"
   ]
  },
  {
   "cell_type": "markdown",
   "metadata": {},
   "source": [
    "# [Day 24](https://adventofcode.com/2017/day/24)"
   ]
  },
  {
   "cell_type": "code",
   "execution_count": 49,
   "metadata": {},
   "outputs": [
    {
     "data": {
      "text/plain": [
       "1859"
      ]
     },
     "execution_count": 49,
     "metadata": {},
     "output_type": "execute_result"
    }
   ],
   "source": [
    "def components(input):\n",
    "    c = []\n",
    "    for l in input.strip().splitlines():\n",
    "        i, o = map(int, l.split('/'))\n",
    "        c.append((i, o))\n",
    "    return c\n",
    "\n",
    "def strength(bridge):\n",
    "    return sum([i + o for i, o in bridge])\n",
    "\n",
    "def build(b, p, cp):\n",
    "    mat = [(i, o) for i, o in cp if i == p or o == p]\n",
    "    r = []\n",
    "    for c in mat:\n",
    "        rc = [x for x in cp if x != c]\n",
    "        np = c[1] if c[0] == p else c[0] \n",
    "        r.append((b + [c], np, rc))\n",
    "    return r\n",
    "        \n",
    "def bridges(cnts):\n",
    "    stack, bdges = [], []\n",
    "    for c in [(i, o) for i, o in cnts if i == 0 or o == 0]:\n",
    "        stack.append(([c], c[1] if c[0] == 0 else c[0], [x for x in cnts if x != c]))\n",
    "        \n",
    "    while stack:\n",
    "        b, p, c = stack.pop()\n",
    "        nb = build(b, p, c)\n",
    "        if nb:\n",
    "            stack.extend(nb)\n",
    "        else:\n",
    "            bdges.append(b)  \n",
    "    return bdges\n",
    "\n",
    "tc = components(\"\"\"\n",
    "0/2\n",
    "2/2\n",
    "2/3\n",
    "3/4\n",
    "3/5\n",
    "0/1\n",
    "10/1\n",
    "9/10\n",
    "\"\"\")\n",
    "\n",
    "assert max(map(strength, bridges(tc))) == 31\n",
    "c = components(Input(24))\n",
    "b = bridges(c)\n",
    "max(map(strength, b))"
   ]
  },
  {
   "cell_type": "code",
   "execution_count": 50,
   "metadata": {},
   "outputs": [
    {
     "data": {
      "text/plain": [
       "1799"
      ]
     },
     "execution_count": 50,
     "metadata": {},
     "output_type": "execute_result"
    }
   ],
   "source": [
    "longest = max(map(len, b))\n",
    "max(map(strength, [x for x in b if len(x) == longest]))"
   ]
  }
 ],
 "metadata": {
  "kernelspec": {
   "display_name": "Python 3",
   "language": "python",
   "name": "python3"
  },
  "language_info": {
   "codemirror_mode": {
    "name": "ipython",
    "version": 3
   },
   "file_extension": ".py",
   "mimetype": "text/x-python",
   "name": "python",
   "nbconvert_exporter": "python",
   "pygments_lexer": "ipython3",
   "version": "3.5.2"
  }
 },
 "nbformat": 4,
 "nbformat_minor": 2
}
