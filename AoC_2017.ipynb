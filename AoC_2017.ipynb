{
 "cells": [
  {
   "cell_type": "markdown",
   "metadata": {},
   "source": [
    "# Helpers borrowed from [Peter Norvig](https://github.com/norvig/pytudes/blob/master/ipynb/Advent%20of%20Code.ipynb)"
   ]
  },
  {
   "cell_type": "code",
   "execution_count": 1,
   "metadata": {},
   "outputs": [],
   "source": [
    "import re\n",
    "import math\n",
    "from collections import OrderedDict, Counter, defaultdict, namedtuple, deque\n",
    "\n",
    "from itertools   import permutations, combinations, chain, takewhile, \\\n",
    "cycle, product, islice, zip_longest, count as count_from\n",
    "\n",
    "from heapq       import heappop, heappush\n",
    "\n",
    "def Input(day):\n",
    "    \"Open this day's input file.\"\n",
    "    filename = 'input_day{}.txt'.format(day)\n",
    "    return open(filename).read().strip()\n",
    "\n",
    "cat = ''.join\n",
    "origin = (0,0)\n",
    "\n",
    "def array(lines):\n",
    "    \"Convert an iterable of lines into a 2-D array. If lines is a str, do splitlines.\"\n",
    "    if isinstance(lines, str): lines = lines.splitlines()\n",
    "    return [mapt(atom, line.replace(\",\", \" \").split()) for line in lines]\n",
    "\n",
    "def atom(token):\n",
    "    try:\n",
    "        return int(token)\n",
    "    except ValueError:\n",
    "        try:\n",
    "            return float(token)\n",
    "        except ValueError:\n",
    "            return token\n",
    "\n",
    "def grep(pattern, lines):\n",
    "    \"Print lines that match pattern.\"\n",
    "    for line in lines:\n",
    "        if re.search(pattern, line):\n",
    "            print(line)\n",
    "            \n",
    "def mapt(fn, *args): \n",
    "    \"Do a map, and make the results into a tuple.\"\n",
    "    return tuple(map(fn, *args))\n",
    "\n",
    "def cityblock_distance(p, q=origin): \n",
    "    \"Manhatten distance between two points.\"\n",
    "    return abs(X(p) - X(q)) + abs(Y(p) - Y(q))\n",
    "\n",
    "def distance(p, q=origin): \n",
    "    \"Hypotenuse distance between two points.\"\n",
    "    return math.hypot(X(p) - X(q), Y(p) - Y(q))\n",
    "\n",
    "def X(point): return point[0]\n",
    "def Y(point): return point[1]\n",
    "\n",
    "def neighbors8(point): \n",
    "    \"The eight neighbors (with diagonals).\"\n",
    "    x, y = point \n",
    "    return ((x+1, y), (x-1, y), (x, y+1), (x, y-1),\n",
    "            (x+1, y+1), (x-1, y-1), (x+1, y-1), (x-1, y+1))\n",
    "\n",
    "def always(value): return (lambda *args: value)\n",
    "\n",
    "def Astar(start, moves_func, h_func, cost_func=always(1)):\n",
    "    \"Find a shortest sequence of states from start to a goal state (a state s with h_func(s) == 0).\"\n",
    "    frontier  = [(h_func(start), start)] # A priority queue, ordered by path length, f = g + h\n",
    "    previous  = {start: None}  # start state has no previous state; other states will\n",
    "    path_cost = {start: 0}     # The cost of the best path to a state.\n",
    "    Path      = lambda s: ([] if (s is None) else Path(previous[s]) + [s])\n",
    "    while frontier:\n",
    "        (f, s) = heappop(frontier)\n",
    "        if h_func(s) == 0:\n",
    "            return Path(s)\n",
    "        for s2 in moves_func(s):\n",
    "            g = path_cost[s] + cost_func(s, s2)\n",
    "            if s2 not in path_cost or g < path_cost[s2]:\n",
    "                heappush(frontier, (g + h_func(s2), s2))\n",
    "                path_cost[s2] = g\n",
    "                previous[s2] = s\n"
   ]
  },
  {
   "cell_type": "markdown",
   "metadata": {},
   "source": [
    "# [Day 1](https://adventofcode.com/2017/day/1)"
   ]
  },
  {
   "cell_type": "code",
   "execution_count": 2,
   "metadata": {},
   "outputs": [
    {
     "data": {
      "text/plain": [
       "1144"
      ]
     },
     "execution_count": 2,
     "metadata": {},
     "output_type": "execute_result"
    }
   ],
   "source": [
    "def captcha(input):\n",
    "    ints = mapt(int, input)\n",
    "    left = (2*ints)[1:][:len(ints)]\n",
    "    pairs = zip(ints, left)\n",
    "    same = filter(lambda p: p[0] == p[1], pairs)\n",
    "    return sum(map(lambda p: p[0], same))\n",
    "\n",
    "assert captcha('1122') == 3\n",
    "assert captcha('1111') == 4\n",
    "assert captcha('1234') == 0\n",
    "assert captcha('91212129') == 9\n",
    "\n",
    "captcha(Input(1))"
   ]
  },
  {
   "cell_type": "code",
   "execution_count": 3,
   "metadata": {},
   "outputs": [
    {
     "data": {
      "text/plain": [
       "1194"
      ]
     },
     "execution_count": 3,
     "metadata": {},
     "output_type": "execute_result"
    }
   ],
   "source": [
    "def captcha_half(input):\n",
    "    ints = mapt(int, input)\n",
    "    left = (2*ints)[int(len(ints)/2):][:len(ints)]\n",
    "    pairs = zip(ints, left)\n",
    "    same = filter(lambda p: p[0] == p[1], pairs)\n",
    "    return sum(map(lambda p: p[0], same))\n",
    "\n",
    "assert captcha_half('1212') == 6\n",
    "assert captcha_half('1221') == 0\n",
    "assert captcha_half('123425') == 4\n",
    "assert captcha_half('123123') == 12\n",
    "assert captcha_half('12131415') == 4\n",
    "\n",
    "captcha_half(Input(1))"
   ]
  },
  {
   "cell_type": "markdown",
   "metadata": {},
   "source": [
    "# [Day 2](https://adventofcode.com/2017/day/2)"
   ]
  },
  {
   "cell_type": "code",
   "execution_count": 4,
   "metadata": {},
   "outputs": [
    {
     "data": {
      "text/plain": [
       "45351"
      ]
     },
     "execution_count": 4,
     "metadata": {},
     "output_type": "execute_result"
    }
   ],
   "source": [
    "def spreadsheet_checksum(input):\n",
    "    return sum([max(row) - min(row)\n",
    "                for row in array(input)\n",
    "               ])\n",
    "\n",
    "spreadsheet_checksum(Input(2))"
   ]
  },
  {
   "cell_type": "code",
   "execution_count": 5,
   "metadata": {},
   "outputs": [
    {
     "data": {
      "text/plain": [
       "275"
      ]
     },
     "execution_count": 5,
     "metadata": {},
     "output_type": "execute_result"
    }
   ],
   "source": [
    "def spreadsheet_checksum2(input):\n",
    "    return sum([p[0] // p[1]\n",
    "         for row in array(input)\n",
    "         for p in permutations(row, 2) \n",
    "         if p[0] > p[1] \n",
    "         and p[0] % p[1] == 0])\n",
    "        \n",
    "spreadsheet_checksum2(Input(2))"
   ]
  },
  {
   "cell_type": "markdown",
   "metadata": {},
   "source": [
    "# [Day 3](https://adventofcode.com/2017/day/3)"
   ]
  },
  {
   "cell_type": "code",
   "execution_count": 6,
   "metadata": {},
   "outputs": [
    {
     "data": {
      "text/plain": [
       "475"
      ]
     },
     "execution_count": 6,
     "metadata": {},
     "output_type": "execute_result"
    }
   ],
   "source": [
    "position = 277678\n",
    "\n",
    "a = math.ceil((math.sqrt(position)))\n",
    "if a % 2 == 0:\n",
    "    a += 1\n",
    "s = a * a - 4 * (a - 1) + 1\n",
    "h = (a - 1) // 2\n",
    "d = abs(((position - s + 1) % (a - 1)) - h)\n",
    "h + d"
   ]
  },
  {
   "cell_type": "code",
   "execution_count": 7,
   "metadata": {},
   "outputs": [
    {
     "data": {
      "text/plain": [
       "475"
      ]
     },
     "execution_count": 7,
     "metadata": {},
     "output_type": "execute_result"
    }
   ],
   "source": [
    "def populate(m, p, f):\n",
    "    cx, cy = p\n",
    "    px = cx - 1\n",
    "    py = cy\n",
    "    \n",
    "    while (cx - 1, cy) in m:\n",
    "        m[(cx, cy)] = f(m, (px, py), (cx, cy))\n",
    "        px = cx\n",
    "        py = cy\n",
    "        cy += 1\n",
    "        \n",
    "    while (cx, cy - 1) in m:\n",
    "        m[(cx, cy)] = f(m, (px, py), (cx, cy))\n",
    "        px = cx\n",
    "        py = cy\n",
    "        cx -= 1\n",
    "        \n",
    "    while (cx + 1, cy) in m:\n",
    "        m[(cx, cy)] = f(m, (px, py), (cx, cy))\n",
    "        px = cx\n",
    "        py = cy\n",
    "        cy -= 1\n",
    "        \n",
    "    while (cx, cy + 1) in m:\n",
    "        m[(cx, cy)] = f(m, (px, py), (cx, cy))\n",
    "        px = cx\n",
    "        py = cy\n",
    "        cx += 1\n",
    "        \n",
    "    return (cx, cy)\n",
    "\n",
    "def mem_find(cell):\n",
    "    n = (1, 0)\n",
    "    mem = OrderedDict([((0, 0), 1)])\n",
    "    \n",
    "    while not cell in mem.values():\n",
    "        n = populate(mem, n, lambda m, p, c: m[p] + 1)\n",
    "        \n",
    "    for p, c in mem.items():\n",
    "        if c == cell:\n",
    "            return p\n",
    "\n",
    "p = mem_find(position)\n",
    "cityblock_distance(p)\n"
   ]
  },
  {
   "cell_type": "code",
   "execution_count": 8,
   "metadata": {},
   "outputs": [
    {
     "data": {
      "text/plain": [
       "279138"
      ]
     },
     "execution_count": 8,
     "metadata": {},
     "output_type": "execute_result"
    }
   ],
   "source": [
    "def neigh(m, p, c):\n",
    "    return sum([m[n] for n in neighbors8(c) if n in m])\n",
    "        \n",
    "def mem_neigh_find(cell):\n",
    "    n = (1, 0)\n",
    "    mem = OrderedDict([((0, 0), 1)])\n",
    "    \n",
    "    while True:\n",
    "        n = populate(mem, n, neigh)\n",
    "        for p, c in mem.items():\n",
    "            if c > cell:\n",
    "                return c\n",
    "        \n",
    "mem_neigh_find(position)"
   ]
  },
  {
   "cell_type": "markdown",
   "metadata": {},
   "source": [
    "Different imlpementation based on complex numbers and a generator\n"
   ]
  },
  {
   "cell_type": "code",
   "execution_count": 9,
   "metadata": {},
   "outputs": [
    {
     "data": {
      "text/plain": [
       "475"
      ]
     },
     "execution_count": 9,
     "metadata": {},
     "output_type": "execute_result"
    }
   ],
   "source": [
    "U, D, R, L = 1j, -1j, 1, -1\n",
    "turns = {R:U, U:L, L:D, D:R}\n",
    "\n",
    "Cell = namedtuple('Cell', 'pos, dir, value')\n",
    "\n",
    "def cdistance(point): \n",
    "    return abs(point.real) + abs(point.imag)\n",
    "\n",
    "def cells(score):\n",
    "    pos = 0\n",
    "    direction = D\n",
    "    v = 1\n",
    "    occupied = {pos: v}\n",
    "    \n",
    "    while True:\n",
    "        yield Cell(pos, direction, v)\n",
    "        if not pos + turns[direction] in occupied:\n",
    "            direction = turns[direction]\n",
    "        \n",
    "        pos += direction\n",
    "        v = score(pos, v, occupied)\n",
    "        occupied[pos] = v\n",
    "            \n",
    "def mem_find2():            \n",
    "    for c in cells(lambda p, v, o: v + 1):\n",
    "        if(c.value >= position):\n",
    "            return int(cdistance(c.pos))\n",
    "\n",
    "mem_find2()"
   ]
  },
  {
   "cell_type": "code",
   "execution_count": 10,
   "metadata": {},
   "outputs": [
    {
     "data": {
      "text/plain": [
       "279138"
      ]
     },
     "execution_count": 10,
     "metadata": {},
     "output_type": "execute_result"
    }
   ],
   "source": [
    "def neigh8_c(p):\n",
    "    return (p+R, p+L, p+U, p+D, p+R+U, p+R+D, p+L+U, p+L+D)\n",
    "\n",
    "def mem_neigh_find2():            \n",
    "    for c in cells(lambda p, v, o: sum([o[n] for n in neigh8_c(p) if n in o])):\n",
    "        if(c.value >= position):\n",
    "            return c.value\n",
    "\n",
    "mem_neigh_find2()"
   ]
  },
  {
   "cell_type": "markdown",
   "metadata": {},
   "source": [
    "# [Day 4](https://adventofcode.com/2017/day/4)"
   ]
  },
  {
   "cell_type": "code",
   "execution_count": 11,
   "metadata": {},
   "outputs": [
    {
     "data": {
      "text/plain": [
       "466"
      ]
     },
     "execution_count": 11,
     "metadata": {},
     "output_type": "execute_result"
    }
   ],
   "source": [
    "def no_duplicates(passphrases):\n",
    "    valid = []\n",
    "    for passphrase in passphrases:\n",
    "        if len(passphrase) == len(set(passphrase)):\n",
    "            valid.append(passphrase)\n",
    "            \n",
    "    return valid\n",
    "    \n",
    "valid = no_duplicates(array(Input(4)))\n",
    "len(valid)"
   ]
  },
  {
   "cell_type": "code",
   "execution_count": 12,
   "metadata": {},
   "outputs": [
    {
     "data": {
      "text/plain": [
       "251"
      ]
     },
     "execution_count": 12,
     "metadata": {},
     "output_type": "execute_result"
    }
   ],
   "source": [
    "def no_anagrams(passphrases):\n",
    "    valid = []\n",
    "    for passphrase in passphrases:\n",
    "        ordred = mapt(cat, mapt(sorted, passphrase))\n",
    "        if len(ordred) == len(set(ordred)):\n",
    "            valid.append(passphrase)\n",
    "        \n",
    "    return valid\n",
    "    \n",
    "ana = no_anagrams(valid) \n",
    "len(ana)"
   ]
  },
  {
   "cell_type": "markdown",
   "metadata": {},
   "source": [
    "# [Day 5](https://adventofcode.com/2017/day/5)"
   ]
  },
  {
   "cell_type": "code",
   "execution_count": 13,
   "metadata": {},
   "outputs": [
    {
     "data": {
      "text/plain": [
       "358131"
      ]
     },
     "execution_count": 13,
     "metadata": {},
     "output_type": "execute_result"
    }
   ],
   "source": [
    "jumps = list(map(int, Input(5).split()))\n",
    "pos = 0\n",
    "steps = 0\n",
    "\n",
    "while(pos < len(jumps)):\n",
    "    p = pos\n",
    "    pos += jumps[pos]\n",
    "    jumps[p] += 1\n",
    "    steps += 1\n",
    "    \n",
    "steps"
   ]
  },
  {
   "cell_type": "code",
   "execution_count": 14,
   "metadata": {},
   "outputs": [
    {
     "data": {
      "text/plain": [
       "25558839"
      ]
     },
     "execution_count": 14,
     "metadata": {},
     "output_type": "execute_result"
    }
   ],
   "source": [
    "jumps = list(map(int, Input(5).split()))\n",
    "pos = 0\n",
    "steps = 0\n",
    "\n",
    "while(pos < len(jumps)):\n",
    "    p = pos\n",
    "    pos += jumps[pos]\n",
    "    if jumps[p] > 2:\n",
    "        jumps[p] -= 1\n",
    "    else:\n",
    "        jumps[p] += 1  \n",
    "    steps += 1\n",
    "    \n",
    "steps"
   ]
  },
  {
   "cell_type": "markdown",
   "metadata": {},
   "source": [
    "# [Day 6](https://adventofcode.com/2017/day/6)"
   ]
  },
  {
   "cell_type": "code",
   "execution_count": 15,
   "metadata": {},
   "outputs": [
    {
     "data": {
      "text/plain": [
       "11137"
      ]
     },
     "execution_count": 15,
     "metadata": {},
     "output_type": "execute_result"
    }
   ],
   "source": [
    "def get_cycles(banks):\n",
    "    seen = set()\n",
    "\n",
    "    while not tuple(banks) in seen:\n",
    "        seen.add(tuple(banks))\n",
    "        blocks = max(banks)\n",
    "        i = banks.index(blocks)\n",
    "        banks[i] = 0\n",
    "\n",
    "        while blocks > 0:\n",
    "            i += 1\n",
    "            i %= len(banks)\n",
    "            banks[i] += 1\n",
    "            blocks -= 1\n",
    "\n",
    "    return len(seen), banks\n",
    "\n",
    "assert get_cycles([0, 2, 7, 0])[0] == 5\n",
    "\n",
    "banks = list(array(Input(6))[0])\n",
    "assert len(banks) == 16\n",
    "cycles, end_banks = get_cycles(banks)\n",
    "cycles"
   ]
  },
  {
   "cell_type": "code",
   "execution_count": 16,
   "metadata": {},
   "outputs": [
    {
     "data": {
      "text/plain": [
       "1037"
      ]
     },
     "execution_count": 16,
     "metadata": {},
     "output_type": "execute_result"
    }
   ],
   "source": [
    "loop, _ = get_cycles(end_banks)\n",
    "loop"
   ]
  },
  {
   "cell_type": "markdown",
   "metadata": {},
   "source": [
    "# [Day 7](https://adventofcode.com/2017/day/7)"
   ]
  },
  {
   "cell_type": "code",
   "execution_count": 17,
   "metadata": {},
   "outputs": [
    {
     "data": {
      "text/plain": [
       "'gynfwly'"
      ]
     },
     "execution_count": 17,
     "metadata": {},
     "output_type": "execute_result"
    }
   ],
   "source": [
    "reports = array(Input(7))\n",
    "\n",
    "def create_tree(reports):\n",
    "    seen = set()\n",
    "    children = set()\n",
    "    tree = {}\n",
    "\n",
    "    for report in reports:\n",
    "        name = report[0]\n",
    "        ch = report[3:]\n",
    "        weight = int(report[1][1:-1])\n",
    "        seen.add(name)\n",
    "        if len(report) > 3:\n",
    "            children |= set(ch)\n",
    "            tree[name] = (weight, ch)\n",
    "        else:\n",
    "            tree[name] = (weight, [])\n",
    "        \n",
    "    return seen.difference(children).pop(), tree\n",
    "\n",
    "root, tower = create_tree(reports)\n",
    "root"
   ]
  },
  {
   "cell_type": "code",
   "execution_count": 18,
   "metadata": {},
   "outputs": [
    {
     "data": {
      "text/plain": [
       "1526"
      ]
     },
     "execution_count": 18,
     "metadata": {},
     "output_type": "execute_result"
    }
   ],
   "source": [
    "def subtower_weight(start):\n",
    "    stack = [start]\n",
    "    weight = 0\n",
    "    \n",
    "    while stack:\n",
    "        name = stack.pop()\n",
    "        weight += tower[name][0]\n",
    "        stack.extend(tower[name][1])\n",
    "    \n",
    "    return weight\n",
    "\n",
    "stack = [root]\n",
    "while stack:\n",
    "    name = stack.pop()\n",
    "    weights = {c: subtower_weight(c) for c in tower[name][1]}\n",
    "    lc = Counter(weights.values()).most_common()[-1]\n",
    "\n",
    "    if lc[1] == 1:\n",
    "        diff = lc[0] - Counter(weights.values()).most_common()[0][0]\n",
    "        stack.append([x for x, y in weights.items() if y == lc[0]][0])\n",
    "        \n",
    "tower[name][0] - diff"
   ]
  },
  {
   "cell_type": "markdown",
   "metadata": {},
   "source": [
    "# [Day 8](https://adventofcode.com/2017/day/8)"
   ]
  },
  {
   "cell_type": "code",
   "execution_count": 19,
   "metadata": {},
   "outputs": [
    {
     "data": {
      "text/plain": [
       "6012"
      ]
     },
     "execution_count": 19,
     "metadata": {},
     "output_type": "execute_result"
    }
   ],
   "source": [
    "instructions = array(Input(8).split('\\n'))\n",
    "\n",
    "def interpret(instructions):\n",
    "    registers = {}\n",
    "    max_r = 0\n",
    "    \n",
    "    for i in instructions:\n",
    "        out, op, v, cr = i[0], i[1], i[2], i[4]\n",
    "        \n",
    "        if not cr in registers:\n",
    "            registers[cr] = 0\n",
    "        if not out in registers:\n",
    "            registers[out] = 0\n",
    "            \n",
    "        exp = str(registers[cr]) + cat(map(str, i[5:]))\n",
    "            \n",
    "        if eval(exp):\n",
    "            if op == 'inc':\n",
    "                registers[out] += int(v)\n",
    "            else:\n",
    "                registers[out] -= int(v)\n",
    "                \n",
    "        if registers[out] > max_r:\n",
    "            max_r = registers[out]\n",
    "\n",
    "    return max_r, registers\n",
    "        \n",
    "max_r, registers = interpret(instructions)\n",
    "max(registers.values())"
   ]
  },
  {
   "cell_type": "code",
   "execution_count": 20,
   "metadata": {},
   "outputs": [
    {
     "data": {
      "text/plain": [
       "6369"
      ]
     },
     "execution_count": 20,
     "metadata": {},
     "output_type": "execute_result"
    }
   ],
   "source": [
    "max_r"
   ]
  },
  {
   "cell_type": "markdown",
   "metadata": {},
   "source": [
    "# [Day 9](https://adventofcode.com/2017/day/9)"
   ]
  },
  {
   "cell_type": "code",
   "execution_count": 21,
   "metadata": {},
   "outputs": [
    {
     "data": {
      "text/plain": [
       "(8337, 4330)"
      ]
     },
     "execution_count": 21,
     "metadata": {},
     "output_type": "execute_result"
    }
   ],
   "source": [
    "tests = [\n",
    "    (\"{{{},{},{{}}}}\", 16),\n",
    "    (\"{{<!!>},{<!!>},{<!!>},{<!!>}}\", 9),\n",
    "    (\"{{<ab>},{<ab>},{<ab>},{<ab>}}\", 9),\n",
    "    (\"{{<a!>},{<a!>},{<a!>},{<ab>}}\", 3)\n",
    "]\n",
    "\n",
    "def groups(stream):\n",
    "    stack, groups = [], []\n",
    "    garbage, ignore = False, False\n",
    "    score, garbage_size = 0, 0\n",
    "    \n",
    "    for i in range(len(stream)):\n",
    "        if not garbage:\n",
    "            if stream[i] == '{':\n",
    "                stack.append(i)\n",
    "            elif stream[i] == '}':\n",
    "                score += len(stack)\n",
    "                groups.append(stream[stack.pop():i+1])\n",
    "            elif stream[i] == '<':\n",
    "                garbage = True\n",
    "        else:\n",
    "            if not ignore:\n",
    "                if stream[i] == '!':\n",
    "                    ignore = True\n",
    "                elif stream[i] == '>':\n",
    "                    garbage = False\n",
    "                else:\n",
    "                    garbage_size += 1 \n",
    "            else:\n",
    "                ignore = False\n",
    "            \n",
    "    return score, garbage_size\n",
    "  \n",
    "for stream, score in tests:\n",
    "    s, _ = groups(stream)\n",
    "    assert s == score\n",
    "    \n",
    "groups(Input(9))"
   ]
  },
  {
   "cell_type": "markdown",
   "metadata": {},
   "source": [
    "# [Day 10](https://adventofcode.com/2017/day/10)"
   ]
  },
  {
   "cell_type": "code",
   "execution_count": 22,
   "metadata": {},
   "outputs": [
    {
     "data": {
      "text/plain": [
       "4480"
      ]
     },
     "execution_count": 22,
     "metadata": {},
     "output_type": "execute_result"
    }
   ],
   "source": [
    "def split(li, b, l):\n",
    "    b %= len(li)\n",
    "    e = (b + l) % len(li)\n",
    "    if e < b:\n",
    "        return li[b:] + li[:e], li[e:b]\n",
    "    else:\n",
    "        return li[b:e], li[e:] + li[:b]\n",
    "\n",
    "def hash(input, sl, repeat=1):\n",
    "    skip, pos = 0, 0\n",
    "    hash = [i for i in range(sl)]\n",
    "    \n",
    "    for _ in range(repeat):\n",
    "        for i in input:\n",
    "            a, b = split(hash, pos, i)\n",
    "            hash = list(reversed(a)) + b\n",
    "            hash = hash[sl - pos:] + hash[:sl - pos]\n",
    "\n",
    "            pos = (pos + i + skip) % sl\n",
    "            skip += 1\n",
    "\n",
    "    return hash\n",
    "\n",
    "input = \"63,144,180,149,1,255,167,84,125,65,188,0,2,254,229,24\"\n",
    "test = hash([3, 4, 1, 5], 5)\n",
    "assert test[0] * test[1] == 12\n",
    "out1 = hash([int(v) for v in input.split(',')], 256)\n",
    "out1[0] * out1[1]"
   ]
  },
  {
   "cell_type": "code",
   "execution_count": 23,
   "metadata": {},
   "outputs": [
    {
     "data": {
      "text/plain": [
       "'c500ffe015c83b60fad2e4b7d59dabc4'"
      ]
     },
     "execution_count": 23,
     "metadata": {},
     "output_type": "execute_result"
    }
   ],
   "source": [
    "from functools import reduce\n",
    "from binascii import hexlify\n",
    "\n",
    "def sparse(input):\n",
    "    bytes = [ord(c) for c in input] + [17, 31, 73, 47, 23]\n",
    "    sparse = hash(bytes, 256, 64)\n",
    "    dense = []\n",
    "    for s in [sparse[i:i+16] for i in range(0, 256, 16)]:\n",
    "        dense.append(reduce(lambda a,x: a^x, s))\n",
    "    return str(hexlify(bytearray(dense)))[2:-1]\n",
    "    \n",
    "assert sparse(\"\") == 'a2582a3a0e66e6e86e3812dcb672a272'\n",
    "assert sparse(\"AoC 2017\") == '33efeb34ea91902bb2f59c9920caa6cd'\n",
    "assert sparse(\"1,2,3\") == '3efbe78a8d82f29979031a4aa0b16a9d'\n",
    "assert sparse(\"1,2,4\") == '63960835bcdc130f0b66d7ff4f6a5a8e'\n",
    "sparse(input)"
   ]
  },
  {
   "cell_type": "markdown",
   "metadata": {},
   "source": [
    "# [Day 11](https://adventofcode.com/2017/day/11)"
   ]
  },
  {
   "cell_type": "code",
   "execution_count": 24,
   "metadata": {},
   "outputs": [
    {
     "data": {
      "text/plain": [
       "(643, 1471)"
      ]
     },
     "execution_count": 24,
     "metadata": {},
     "output_type": "execute_result"
    }
   ],
   "source": [
    "path = Input(11).split(',')\n",
    "\n",
    "dirs = {'n':  (1, -1, 0),\n",
    "        'ne': (0, -1, 1),\n",
    "        'se': (-1, 0, 1),\n",
    "        's':  (-1, 1, 0),\n",
    "        'sw': (0, 1, -1),\n",
    "        'nw': (1, 0, -1)\n",
    "        }\n",
    "\n",
    "def hex_dist(point):\n",
    "    x, y, z = point\n",
    "    return (abs(x) + abs(y) + abs(z)) // 2\n",
    "            \n",
    "def hex_find(path):\n",
    "    maxp = (0, 0, 0)\n",
    "    goal = (0, 0, 0)\n",
    "    for d in path:\n",
    "        dx, dy, dz = dirs[d]\n",
    "        goal = (goal[0]+dx, goal[1]+dy, goal[2]+dz)\n",
    "        if hex_dist(goal) > hex_dist(maxp):\n",
    "            maxp = goal\n",
    "\n",
    "    return hex_dist(goal), hex_dist(maxp)\n",
    "\n",
    "hex_find(path)\n"
   ]
  },
  {
   "cell_type": "markdown",
   "metadata": {},
   "source": [
    "# [Day 12](https://adventofcode.com/2017/day/12)"
   ]
  },
  {
   "cell_type": "code",
   "execution_count": 25,
   "metadata": {},
   "outputs": [
    {
     "data": {
      "text/plain": [
       "380"
      ]
     },
     "execution_count": 25,
     "metadata": {},
     "output_type": "execute_result"
    }
   ],
   "source": [
    "test_input = \"\"\"\n",
    "0 <-> 2\n",
    "1 <-> 1\n",
    "2 <-> 0, 3, 4\n",
    "3 <-> 2, 4\n",
    "4 <-> 2, 3, 6\n",
    "5 <-> 6\n",
    "6 <-> 4, 5\n",
    "\"\"\".strip()\n",
    "\n",
    "def get_entries(input):\n",
    "    entries = {entry[0]: set(entry[2:]) for entry in array(input)}         \n",
    "    return entries\n",
    "\n",
    "def group(pid, entries):\n",
    "\n",
    "    stack = [pid]\n",
    "    g = frozenset()\n",
    "\n",
    "    while stack:\n",
    "        pid = stack.pop()\n",
    "        stack.extend(list(entries[pid].difference(g)))\n",
    "        g |= entries[pid]\n",
    "\n",
    "    return g\n",
    "\n",
    "test_entries = get_entries(test_input)\n",
    "input_entries = get_entries(Input(12))\n",
    "    \n",
    "assert len(group(0, test_entries)) == 6\n",
    "len(group(0, input_entries))"
   ]
  },
  {
   "cell_type": "code",
   "execution_count": 26,
   "metadata": {},
   "outputs": [
    {
     "name": "stdout",
     "output_type": "stream",
     "text": [
      "CPU times: user 856 ms, sys: 0 ns, total: 856 ms\n",
      "Wall time: 857 ms\n"
     ]
    },
    {
     "data": {
      "text/plain": [
       "181"
      ]
     },
     "execution_count": 26,
     "metadata": {},
     "output_type": "execute_result"
    }
   ],
   "source": [
    "def total(entries):\n",
    "    groups = set(group(pid, entries) for pid in entries.keys())\n",
    "    return len(groups)\n",
    "        \n",
    "assert total(test_entries) == 2\n",
    "%time total(input_entries)"
   ]
  },
  {
   "cell_type": "markdown",
   "metadata": {},
   "source": [
    "# [Day 13](https://adventofcode.com/2017/day/13)"
   ]
  },
  {
   "cell_type": "code",
   "execution_count": 27,
   "metadata": {},
   "outputs": [
    {
     "data": {
      "text/plain": [
       "2508"
      ]
     },
     "execution_count": 27,
     "metadata": {},
     "output_type": "execute_result"
    }
   ],
   "source": [
    "test_input = '''\n",
    "0: 3\n",
    "1: 2\n",
    "4: 4\n",
    "6: 4\n",
    "'''.strip()\n",
    "\n",
    "def get_severity(firewall, delay=0):\n",
    "    severity = 0\n",
    "    caught = 0\n",
    "    s = max(firewall.keys())+1\n",
    "    for p in range(s):\n",
    "        if p in firewall:\n",
    "            if (delay + p) % (2 * (firewall[p] - 1)) == 0:\n",
    "                severity += p*firewall[p]\n",
    "                caught += 1\n",
    "            \n",
    "    return severity, caught\n",
    "\n",
    "test_firewall = {d:r for d,r in array(test_input.replace(':', ''))}\n",
    "firewall = {d:r for d,r in array(Input(13).replace(':', ''))}\n",
    "assert get_severity(test_firewall)[0] == 24\n",
    "get_severity(firewall)[0]"
   ]
  },
  {
   "cell_type": "code",
   "execution_count": 28,
   "metadata": {},
   "outputs": [
    {
     "data": {
      "text/plain": [
       "3913186"
      ]
     },
     "execution_count": 28,
     "metadata": {},
     "output_type": "execute_result"
    }
   ],
   "source": [
    "assert get_severity(test_firewall, 10)[0] == 0\n",
    "\n",
    "delay = 0\n",
    "while True:\n",
    "    _, c = get_severity(firewall, delay)\n",
    "    if c == 0:\n",
    "        break\n",
    "    delay += 1\n",
    "delay"
   ]
  }
 ],
 "metadata": {
  "kernelspec": {
   "display_name": "Python 3",
   "language": "python",
   "name": "python3"
  },
  "language_info": {
   "codemirror_mode": {
    "name": "ipython",
    "version": 3
   },
   "file_extension": ".py",
   "mimetype": "text/x-python",
   "name": "python",
   "nbconvert_exporter": "python",
   "pygments_lexer": "ipython3",
   "version": "3.5.2"
  }
 },
 "nbformat": 4,
 "nbformat_minor": 2
}
