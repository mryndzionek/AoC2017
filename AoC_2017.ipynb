{
 "cells": [
  {
   "cell_type": "markdown",
   "metadata": {},
   "source": [
    "# Helpers borrowed from [Peter Norvig](https://github.com/norvig/pytudes/blob/master/ipynb/Advent%20of%20Code.ipynb)"
   ]
  },
  {
   "cell_type": "code",
   "execution_count": 1,
   "metadata": {},
   "outputs": [],
   "source": [
    "import re\n",
    "import math\n",
    "from collections import OrderedDict, Counter, defaultdict, namedtuple, deque\n",
    "\n",
    "from itertools   import permutations, combinations, chain, takewhile, \\\n",
    "cycle, product, islice, zip_longest, count as count_from\n",
    "\n",
    "def Input(day):\n",
    "    \"Open this day's input file.\"\n",
    "    filename = 'input_day{}.txt'.format(day)\n",
    "    return open(filename).read().strip()\n",
    "\n",
    "cat = ''.join\n",
    "\n",
    "def array(lines):\n",
    "    \"Convert an iterable of lines into a 2-D array. If lines is a str, do splitlines.\"\n",
    "    if isinstance(lines, str): lines = lines.splitlines()\n",
    "    return [mapt(atom, line.split()) for line in lines]\n",
    "\n",
    "def atom(token):\n",
    "    try:\n",
    "        return int(token)\n",
    "    except ValueError:\n",
    "        try:\n",
    "            return float(token)\n",
    "        except ValueError:\n",
    "            return token\n",
    "\n",
    "def grep(pattern, lines):\n",
    "    \"Print lines that match pattern.\"\n",
    "    for line in lines:\n",
    "        if re.search(pattern, line):\n",
    "            print(line)\n",
    "            \n",
    "def mapt(fn, *args): \n",
    "    \"Do a map, and make the results into a tuple.\"\n",
    "    return tuple(map(fn, *args))\n",
    "\n",
    "def cityblock_distance(p, q=(0, 0)): \n",
    "    \"City block distance between two points.\"\n",
    "    return abs(X(p) - X(q)) + abs(Y(p) - Y(q))\n",
    "\n",
    "def X(point): return point[0]\n",
    "def Y(point): return point[1]\n",
    "\n",
    "def neighbors8(point): \n",
    "    \"The eight neighbors (with diagonals).\"\n",
    "    x, y = point \n",
    "    return ((x+1, y), (x-1, y), (x, y+1), (x, y-1),\n",
    "            (x+1, y+1), (x-1, y-1), (x+1, y-1), (x-1, y+1))\n"
   ]
  },
  {
   "cell_type": "markdown",
   "metadata": {},
   "source": [
    "# [Day 1](https://adventofcode.com/2017/day/1)"
   ]
  },
  {
   "cell_type": "code",
   "execution_count": 2,
   "metadata": {},
   "outputs": [
    {
     "data": {
      "text/plain": [
       "1144"
      ]
     },
     "execution_count": 2,
     "metadata": {},
     "output_type": "execute_result"
    }
   ],
   "source": [
    "def captcha(input):\n",
    "    ints = mapt(int, input)\n",
    "    left = (2*ints)[1:][:len(ints)]\n",
    "    pairs = zip(ints, left)\n",
    "    same = filter(lambda p: p[0] == p[1], pairs)\n",
    "    return sum(map(lambda p: p[0], same))\n",
    "\n",
    "assert captcha('1122') == 3\n",
    "assert captcha('1111') == 4\n",
    "assert captcha('1234') == 0\n",
    "assert captcha('91212129') == 9\n",
    "\n",
    "captcha(Input(1))"
   ]
  },
  {
   "cell_type": "code",
   "execution_count": 3,
   "metadata": {},
   "outputs": [
    {
     "data": {
      "text/plain": [
       "1194"
      ]
     },
     "execution_count": 3,
     "metadata": {},
     "output_type": "execute_result"
    }
   ],
   "source": [
    "def captcha_half(input):\n",
    "    ints = mapt(int, input)\n",
    "    left = (2*ints)[int(len(ints)/2):][:len(ints)]\n",
    "    pairs = zip(ints, left)\n",
    "    same = filter(lambda p: p[0] == p[1], pairs)\n",
    "    return sum(map(lambda p: p[0], same))\n",
    "\n",
    "assert captcha_half('1212') == 6\n",
    "assert captcha_half('1221') == 0\n",
    "assert captcha_half('123425') == 4\n",
    "assert captcha_half('123123') == 12\n",
    "assert captcha_half('12131415') == 4\n",
    "\n",
    "captcha_half(Input(1))"
   ]
  },
  {
   "cell_type": "markdown",
   "metadata": {},
   "source": [
    "# [Day 2](https://adventofcode.com/2017/day/2)"
   ]
  },
  {
   "cell_type": "code",
   "execution_count": 4,
   "metadata": {},
   "outputs": [
    {
     "data": {
      "text/plain": [
       "45351"
      ]
     },
     "execution_count": 4,
     "metadata": {},
     "output_type": "execute_result"
    }
   ],
   "source": [
    "def spreadsheet_checksum(input):\n",
    "    return sum([max(row) - min(row)\n",
    "                for row in array(input)\n",
    "               ])\n",
    "\n",
    "spreadsheet_checksum(Input(2))"
   ]
  },
  {
   "cell_type": "code",
   "execution_count": 5,
   "metadata": {},
   "outputs": [
    {
     "data": {
      "text/plain": [
       "275"
      ]
     },
     "execution_count": 5,
     "metadata": {},
     "output_type": "execute_result"
    }
   ],
   "source": [
    "def spreadsheet_checksum2(input):\n",
    "    return sum([p[0] // p[1]\n",
    "         for row in array(input)\n",
    "         for p in permutations(row, 2) \n",
    "         if p[0] > p[1] \n",
    "         and p[0] % p[1] == 0])\n",
    "        \n",
    "spreadsheet_checksum2(Input(2))"
   ]
  },
  {
   "cell_type": "markdown",
   "metadata": {},
   "source": [
    "# [Day 3](https://adventofcode.com/2017/day/3)"
   ]
  },
  {
   "cell_type": "code",
   "execution_count": 6,
   "metadata": {},
   "outputs": [
    {
     "data": {
      "text/plain": [
       "475"
      ]
     },
     "execution_count": 6,
     "metadata": {},
     "output_type": "execute_result"
    }
   ],
   "source": [
    "position = 277678\n",
    "\n",
    "a = math.ceil((math.sqrt(position)))\n",
    "if a % 2 == 0:\n",
    "    a += 1\n",
    "s = a * a - 4 * (a - 1) + 1\n",
    "h = (a - 1) // 2\n",
    "d = abs(((position - s + 1) % (a - 1)) - h)\n",
    "h + d"
   ]
  },
  {
   "cell_type": "code",
   "execution_count": 7,
   "metadata": {},
   "outputs": [
    {
     "data": {
      "text/plain": [
       "475"
      ]
     },
     "execution_count": 7,
     "metadata": {},
     "output_type": "execute_result"
    }
   ],
   "source": [
    "def populate(m, p, f):\n",
    "    cx, cy = p\n",
    "    px = cx - 1\n",
    "    py = cy\n",
    "    \n",
    "    while (cx - 1, cy) in m:\n",
    "        m[(cx, cy)] = f(m, (px, py), (cx, cy))\n",
    "        px = cx\n",
    "        py = cy\n",
    "        cy += 1\n",
    "        \n",
    "    while (cx, cy - 1) in m:\n",
    "        m[(cx, cy)] = f(m, (px, py), (cx, cy))\n",
    "        px = cx\n",
    "        py = cy\n",
    "        cx -= 1\n",
    "        \n",
    "    while (cx + 1, cy) in m:\n",
    "        m[(cx, cy)] = f(m, (px, py), (cx, cy))\n",
    "        px = cx\n",
    "        py = cy\n",
    "        cy -= 1\n",
    "        \n",
    "    while (cx, cy + 1) in m:\n",
    "        m[(cx, cy)] = f(m, (px, py), (cx, cy))\n",
    "        px = cx\n",
    "        py = cy\n",
    "        cx += 1\n",
    "        \n",
    "    return (cx, cy)\n",
    "\n",
    "def mem_find(cell):\n",
    "    n = (1, 0)\n",
    "    mem = OrderedDict([((0, 0), 1)])\n",
    "    \n",
    "    while not cell in mem.values():\n",
    "        n = populate(mem, n, lambda m, p, c: m[p] + 1)\n",
    "        \n",
    "    for p, c in mem.items():\n",
    "        if c == cell:\n",
    "            return p\n",
    "\n",
    "p = mem_find(position)\n",
    "cityblock_distance(p)\n"
   ]
  },
  {
   "cell_type": "code",
   "execution_count": 8,
   "metadata": {},
   "outputs": [
    {
     "data": {
      "text/plain": [
       "279138"
      ]
     },
     "execution_count": 8,
     "metadata": {},
     "output_type": "execute_result"
    }
   ],
   "source": [
    "def neigh(m, p, c):\n",
    "    return sum([m[n] for n in neighbors8(c) if n in m])\n",
    "        \n",
    "def mem_neigh_find(cell):\n",
    "    n = (1, 0)\n",
    "    mem = OrderedDict([((0, 0), 1)])\n",
    "    \n",
    "    while True:\n",
    "        n = populate(mem, n, neigh)\n",
    "        for p, c in mem.items():\n",
    "            if c > cell:\n",
    "                return c\n",
    "        \n",
    "mem_neigh_find(position)"
   ]
  },
  {
   "cell_type": "markdown",
   "metadata": {},
   "source": [
    "Different imlpementation based on complex numbers and a generator\n"
   ]
  },
  {
   "cell_type": "code",
   "execution_count": 9,
   "metadata": {},
   "outputs": [
    {
     "data": {
      "text/plain": [
       "475"
      ]
     },
     "execution_count": 9,
     "metadata": {},
     "output_type": "execute_result"
    }
   ],
   "source": [
    "U, D, R, L = 1j, -1j, 1, -1\n",
    "turns = {R:U, U:L, L:D, D:R}\n",
    "\n",
    "Cell = namedtuple('Cell', 'pos, dir, value')\n",
    "\n",
    "def distance(point): \n",
    "    return abs(point.real) + abs(point.imag)\n",
    "\n",
    "def cells(score):\n",
    "    pos = 0\n",
    "    direction = D\n",
    "    v = 1\n",
    "    occupied = {pos: v}\n",
    "    \n",
    "    while True:\n",
    "        yield Cell(pos, direction, v)\n",
    "        if not pos + turns[direction] in occupied:\n",
    "            direction = turns[direction]\n",
    "        \n",
    "        pos += direction\n",
    "        v = score(pos, v, occupied)\n",
    "        occupied[pos] = v\n",
    "            \n",
    "def mem_find2():            \n",
    "    for c in cells(lambda p, v, o: v + 1):\n",
    "        if(c.value >= position):\n",
    "            return int(distance(c.pos))\n",
    "\n",
    "mem_find2()"
   ]
  },
  {
   "cell_type": "code",
   "execution_count": 10,
   "metadata": {},
   "outputs": [
    {
     "data": {
      "text/plain": [
       "279138"
      ]
     },
     "execution_count": 10,
     "metadata": {},
     "output_type": "execute_result"
    }
   ],
   "source": [
    "def neigh8_c(p):\n",
    "    return (p+R, p+L, p+U, p+D, p+R+U, p+R+D, p+L+U, p+L+D)\n",
    "\n",
    "def mem_neigh_find2():            \n",
    "    for c in cells(lambda p, v, o: sum([o[n] for n in neigh8_c(p) if n in o])):\n",
    "        if(c.value >= position):\n",
    "            return c.value\n",
    "\n",
    "mem_neigh_find2()"
   ]
  },
  {
   "cell_type": "markdown",
   "metadata": {},
   "source": [
    "# [Day 4](https://adventofcode.com/2017/day/4)"
   ]
  },
  {
   "cell_type": "code",
   "execution_count": 11,
   "metadata": {},
   "outputs": [
    {
     "data": {
      "text/plain": [
       "466"
      ]
     },
     "execution_count": 11,
     "metadata": {},
     "output_type": "execute_result"
    }
   ],
   "source": [
    "def no_duplicates(passphrases):\n",
    "    valid = []\n",
    "    for passphrase in passphrases:\n",
    "        if len(passphrase) == len(set(passphrase)):\n",
    "            valid.append(passphrase)\n",
    "            \n",
    "    return valid\n",
    "    \n",
    "valid = no_duplicates(array(Input(4)))\n",
    "len(valid)"
   ]
  },
  {
   "cell_type": "code",
   "execution_count": 12,
   "metadata": {},
   "outputs": [
    {
     "data": {
      "text/plain": [
       "251"
      ]
     },
     "execution_count": 12,
     "metadata": {},
     "output_type": "execute_result"
    }
   ],
   "source": [
    "def no_anagrams(passphrases):\n",
    "    valid = []\n",
    "    for passphrase in passphrases:\n",
    "        ordred = mapt(cat, mapt(sorted, passphrase))\n",
    "        if len(ordred) == len(set(ordred)):\n",
    "            valid.append(passphrase)\n",
    "        \n",
    "    return valid\n",
    "    \n",
    "ana = no_anagrams(valid) \n",
    "len(ana)"
   ]
  },
  {
   "cell_type": "markdown",
   "metadata": {},
   "source": [
    "# [Day 5](https://adventofcode.com/2017/day/5)"
   ]
  },
  {
   "cell_type": "code",
   "execution_count": 13,
   "metadata": {},
   "outputs": [
    {
     "data": {
      "text/plain": [
       "358131"
      ]
     },
     "execution_count": 13,
     "metadata": {},
     "output_type": "execute_result"
    }
   ],
   "source": [
    "jumps = list(map(int, Input(5).split()))\n",
    "pos = 0\n",
    "steps = 0\n",
    "\n",
    "while(pos < len(jumps)):\n",
    "    p = pos\n",
    "    pos += jumps[pos]\n",
    "    jumps[p] += 1\n",
    "    steps += 1\n",
    "    \n",
    "steps"
   ]
  },
  {
   "cell_type": "code",
   "execution_count": 17,
   "metadata": {},
   "outputs": [
    {
     "name": "stdout",
     "output_type": "stream",
     "text": [
      "CPU times: user 10.5 s, sys: 0 ns, total: 10.5 s\n",
      "Wall time: 10.6 s\n"
     ]
    }
   ],
   "source": [
    "jumps = list(map(int, Input(5).split()))\n",
    "pos = 0\n",
    "steps = 0\n",
    "\n",
    "while(pos < len(jumps)):\n",
    "    p = pos\n",
    "    pos += jumps[pos]\n",
    "    if jumps[p] > 2:\n",
    "        jumps[p] -= 1\n",
    "    else:\n",
    "        jumps[p] += 1  \n",
    "    steps += 1\n",
    "    \n",
    "steps"
   ]
  },
  {
   "cell_type": "code",
   "execution_count": null,
   "metadata": {},
   "outputs": [],
   "source": []
  }
 ],
 "metadata": {
  "kernelspec": {
   "display_name": "Python 3",
   "language": "python",
   "name": "python3"
  },
  "language_info": {
   "codemirror_mode": {
    "name": "ipython",
    "version": 3
   },
   "file_extension": ".py",
   "mimetype": "text/x-python",
   "name": "python",
   "nbconvert_exporter": "python",
   "pygments_lexer": "ipython3",
   "version": "3.5.2"
  }
 },
 "nbformat": 4,
 "nbformat_minor": 2
}
